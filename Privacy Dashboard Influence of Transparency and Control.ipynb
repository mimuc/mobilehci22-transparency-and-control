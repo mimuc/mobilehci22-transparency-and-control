{
 "cells": [
  {
   "cell_type": "code",
   "execution_count": 16,
   "id": "91605d10",
   "metadata": {},
   "outputs": [],
   "source": [
    "### import libraries and functions ###\n",
    "library(dplyr)\n",
    "library(tidyr)\n",
    "library(ggplot2)\n",
    "library(lubridate)\n",
    "library(chisq.posthoc.test)\n",
    "\n",
    "source('general_functions.R')"
   ]
  },
  {
   "cell_type": "code",
   "execution_count": 17,
   "id": "c0094e73",
   "metadata": {
    "tags": []
   },
   "outputs": [],
   "source": [
    "### load questionnaire data ###\n",
    "# onboarding questionnaires\n",
    "data_onboarding_groupassignment <- readRDS(\"data/questionnaires/data_onboarding_groupassignment.rds\")\n",
    "data_onboarding_baseline <- readRDS(\"data/questionnaires/data_onboarding_baseline.rds\")\n",
    "data_onboarding_transparency <- readRDS(\"data/questionnaires/data_onboarding_transparency.rds\")\n",
    "data_onboarding_control <- readRDS(\"data/questionnaires/data_onboarding_control.rds\")\n",
    "data_onboarding_both <- readRDS(\"data/questionnaires/data_onboarding_both.rds\")\n",
    "\n",
    "# pre and post questionnaires\n",
    "data_startq <- readRDS(\"data/questionnaires/data_preq.rds\")\n",
    "data_postq <- readRDS(\"data/questionnaires/data_postq.rds\")"
   ]
  },
  {
   "cell_type": "code",
   "execution_count": 18,
   "id": "17bcfa0f",
   "metadata": {},
   "outputs": [],
   "source": [
    "### load app data ###\n",
    "users <- readRDS(\"data/app/users.rds\")"
   ]
  },
  {
   "cell_type": "code",
   "execution_count": 19,
   "id": "63d275cd",
   "metadata": {},
   "outputs": [],
   "source": [
    "### Participation Rates. Amount of participants that ... ###\n",
    "\n",
    "# For each stage, the participation rates depending on the four conditions are calculated\n",
    "\n",
    "## ... showed interest in the study\n",
    "n_assigned_ba <- nrow(data_onboarding_groupassignment %>% filter(RD01 == 1))\n",
    "n_assigned_tr <- nrow(data_onboarding_groupassignment %>% filter(RD01 == 2))\n",
    "n_assigned_co <- nrow(data_onboarding_groupassignment %>% filter(RD01 == 3))\n",
    "n_assigned_bo <- nrow(data_onboarding_groupassignment %>% filter(RD01 == 4))\n",
    "\n",
    "# ... completed the onboarding questionnaire\n",
    "n_onboarding_finished_ba <- nrow(data_onboarding_baseline %>% filter(FINISHED == 1))\n",
    "n_onboarding_finished_tr <- nrow(data_onboarding_transparency %>% filter(FINISHED == 1))\n",
    "n_onboarding_finished_co <- nrow(data_onboarding_control %>% filter(FINISHED == 1))\n",
    "n_onboarding_finished_bo <- nrow(data_onboarding_both %>% filter(FINISHED == 1))\n",
    "\n",
    "# ... installed the app\n",
    "n_appinst_ba = nrow(users %>% filter(condition==\"baseline\"))\n",
    "n_appinst_tr = nrow(users %>% filter(condition==\"transparency\"))\n",
    "n_appinst_co = nrow(users %>% filter(condition==\"control\"))\n",
    "n_appinst_bo = nrow(users %>% filter(condition==\"both\"))\n",
    "\n",
    "# ... completed the pre questionnaire\n",
    "n_started_ba <- nrow(data_startq %>% filter(condition == \"baseline\"))\n",
    "n_started_tr <- nrow(data_startq %>% filter(condition == \"transparency\"))\n",
    "n_started_co <- nrow(data_startq %>% filter(condition == \"control\"))\n",
    "n_started_bo <- nrow(data_startq %>% filter(condition == \"both\"))\n",
    "\n",
    "# ...  kept app installed for at least one day\n",
    "n_day1_ba = nrow(users %>% filter(condition==\"baseline\" & days_in_study >= ddays(1)))\n",
    "n_day1_tr = nrow(users %>% filter(condition==\"transparency\" & days_in_study >= ddays(1)))\n",
    "n_day1_co = nrow(users %>% filter(condition==\"control\" & days_in_study >= ddays(1)))\n",
    "n_day1_bo = nrow(users %>% filter(condition==\"both\" & days_in_study >= ddays(1)))\n",
    "\n",
    "# ... Kept app until study end\n",
    "n_day6_ba = nrow(users %>% filter(condition==\"baseline\" & days_in_study >= ddays(6)))\n",
    "n_day6_tr = nrow(users %>% filter(condition==\"transparency\" & days_in_study >= ddays(6)))\n",
    "n_day6_co = nrow(users %>% filter(condition==\"control\" & days_in_study >= ddays(6)))\n",
    "n_day6_bo = nrow(users %>% filter(condition==\"both\" & days_in_study >= ddays(6)))\n",
    "\n",
    "# ... completed the post questionnaire\n",
    "n_finished_ba <- nrow(data_postq %>% filter(condition == \"baseline\")) \n",
    "n_finished_tr <- nrow(data_postq %>% filter(condition == \"transparency\"))\n",
    "n_finished_co <- nrow(data_postq %>% filter(condition == \"control\"))\n",
    "n_finished_bo <- nrow(data_postq %>% filter(condition == \"both\"))"
   ]
  },
  {
   "cell_type": "code",
   "execution_count": 20,
   "id": "5af0daa6",
   "metadata": {},
   "outputs": [
    {
     "data": {
      "text/html": [
       "<table class=\"dataframe\">\n",
       "<caption>A data.frame: 5 × 10</caption>\n",
       "<thead>\n",
       "\t<tr><th scope=col>baseline_n</th><th scope=col>baseline_perc</th><th scope=col>transparency_n</th><th scope=col>transparency_perc</th><th scope=col>control_n</th><th scope=col>control_perc</th><th scope=col>both_n</th><th scope=col>both_perc</th><th scope=col>total_n</th><th scope=col>total_perc</th></tr>\n",
       "\t<tr><th scope=col>&lt;int&gt;</th><th scope=col>&lt;dbl&gt;</th><th scope=col>&lt;int&gt;</th><th scope=col>&lt;dbl&gt;</th><th scope=col>&lt;int&gt;</th><th scope=col>&lt;dbl&gt;</th><th scope=col>&lt;int&gt;</th><th scope=col>&lt;dbl&gt;</th><th scope=col>&lt;int&gt;</th><th scope=col>&lt;dbl&gt;</th></tr>\n",
       "</thead>\n",
       "<tbody>\n",
       "\t<tr><td>322</td><td>1.0000000</td><td>321</td><td>1.0000000</td><td>322</td><td>1.0000000</td><td>321</td><td>1.0000000</td><td>1286</td><td>1.0000000</td></tr>\n",
       "\t<tr><td> 56</td><td>0.1739130</td><td> 57</td><td>0.1775701</td><td> 51</td><td>0.1583851</td><td> 63</td><td>0.1962617</td><td> 227</td><td>0.1765163</td></tr>\n",
       "\t<tr><td> 38</td><td>0.6785714</td><td> 27</td><td>0.4736842</td><td> 43</td><td>0.8431373</td><td> 42</td><td>0.6666667</td><td> 150</td><td>0.6607930</td></tr>\n",
       "\t<tr><td> 29</td><td>0.7631579</td><td> 23</td><td>0.8518519</td><td> 38</td><td>0.8837209</td><td> 38</td><td>0.9047619</td><td> 128</td><td>0.8533333</td></tr>\n",
       "\t<tr><td> 29</td><td>1.0000000</td><td> 23</td><td>1.0000000</td><td> 37</td><td>0.9736842</td><td> 37</td><td>0.9736842</td><td> 126</td><td>0.9843750</td></tr>\n",
       "</tbody>\n",
       "</table>\n"
      ],
      "text/latex": [
       "A data.frame: 5 × 10\n",
       "\\begin{tabular}{llllllllll}\n",
       " baseline\\_n & baseline\\_perc & transparency\\_n & transparency\\_perc & control\\_n & control\\_perc & both\\_n & both\\_perc & total\\_n & total\\_perc\\\\\n",
       " <int> & <dbl> & <int> & <dbl> & <int> & <dbl> & <int> & <dbl> & <int> & <dbl>\\\\\n",
       "\\hline\n",
       "\t 322 & 1.0000000 & 321 & 1.0000000 & 322 & 1.0000000 & 321 & 1.0000000 & 1286 & 1.0000000\\\\\n",
       "\t  56 & 0.1739130 &  57 & 0.1775701 &  51 & 0.1583851 &  63 & 0.1962617 &  227 & 0.1765163\\\\\n",
       "\t  38 & 0.6785714 &  27 & 0.4736842 &  43 & 0.8431373 &  42 & 0.6666667 &  150 & 0.6607930\\\\\n",
       "\t  29 & 0.7631579 &  23 & 0.8518519 &  38 & 0.8837209 &  38 & 0.9047619 &  128 & 0.8533333\\\\\n",
       "\t  29 & 1.0000000 &  23 & 1.0000000 &  37 & 0.9736842 &  37 & 0.9736842 &  126 & 0.9843750\\\\\n",
       "\\end{tabular}\n"
      ],
      "text/markdown": [
       "\n",
       "A data.frame: 5 × 10\n",
       "\n",
       "| baseline_n &lt;int&gt; | baseline_perc &lt;dbl&gt; | transparency_n &lt;int&gt; | transparency_perc &lt;dbl&gt; | control_n &lt;int&gt; | control_perc &lt;dbl&gt; | both_n &lt;int&gt; | both_perc &lt;dbl&gt; | total_n &lt;int&gt; | total_perc &lt;dbl&gt; |\n",
       "|---|---|---|---|---|---|---|---|---|---|\n",
       "| 322 | 1.0000000 | 321 | 1.0000000 | 322 | 1.0000000 | 321 | 1.0000000 | 1286 | 1.0000000 |\n",
       "|  56 | 0.1739130 |  57 | 0.1775701 |  51 | 0.1583851 |  63 | 0.1962617 |  227 | 0.1765163 |\n",
       "|  38 | 0.6785714 |  27 | 0.4736842 |  43 | 0.8431373 |  42 | 0.6666667 |  150 | 0.6607930 |\n",
       "|  29 | 0.7631579 |  23 | 0.8518519 |  38 | 0.8837209 |  38 | 0.9047619 |  128 | 0.8533333 |\n",
       "|  29 | 1.0000000 |  23 | 1.0000000 |  37 | 0.9736842 |  37 | 0.9736842 |  126 | 0.9843750 |\n",
       "\n"
      ],
      "text/plain": [
       "  baseline_n baseline_perc transparency_n transparency_perc control_n\n",
       "1 322        1.0000000     321            1.0000000         322      \n",
       "2  56        0.1739130      57            0.1775701          51      \n",
       "3  38        0.6785714      27            0.4736842          43      \n",
       "4  29        0.7631579      23            0.8518519          38      \n",
       "5  29        1.0000000      23            1.0000000          37      \n",
       "  control_perc both_n both_perc total_n total_perc\n",
       "1 1.0000000    321    1.0000000 1286    1.0000000 \n",
       "2 0.1583851     63    0.1962617  227    0.1765163 \n",
       "3 0.8431373     42    0.6666667  150    0.6607930 \n",
       "4 0.8837209     38    0.9047619  128    0.8533333 \n",
       "5 0.9736842     37    0.9736842  126    0.9843750 "
      ]
     },
     "metadata": {},
     "output_type": "display_data"
    }
   ],
   "source": [
    "# Table 3\n",
    "df_table3 <- data.frame(\n",
    "  baseline_n = c(n_assigned_ba,n_onboarding_finished_ba,n_appinst_ba,n_day1_ba,n_day6_ba),\n",
    "  baseline_perc = c(1,n_onboarding_finished_ba/n_assigned_ba,n_appinst_ba/n_onboarding_finished_ba,n_day1_ba/n_appinst_ba,n_day6_ba/n_day1_ba),\n",
    "  transparency_n = c(n_assigned_tr,n_onboarding_finished_tr,n_appinst_tr,n_day1_tr,n_day6_tr),\n",
    "  transparency_perc = c(1,n_onboarding_finished_tr/n_assigned_tr,n_appinst_tr/n_onboarding_finished_tr,n_day1_tr/n_appinst_tr,n_day6_tr/n_day1_tr),\n",
    "  control_n = c(n_assigned_co,n_onboarding_finished_co,n_appinst_co,n_day1_co,n_day6_co),\n",
    "  control_perc = c(1,n_onboarding_finished_co/n_assigned_co,n_appinst_co/n_onboarding_finished_co,n_day1_co/n_appinst_co,n_day6_co/n_day1_co),\n",
    "  both_n = c(n_assigned_bo,n_onboarding_finished_bo,n_appinst_bo,n_day1_bo,n_day6_bo),\n",
    "  both_perc = c(1,n_onboarding_finished_bo/n_assigned_bo,n_appinst_bo/n_onboarding_finished_bo,n_day1_bo/n_appinst_bo,n_day6_bo/n_day1_bo),\n",
    "  total_n = c(n_assigned_ba+n_assigned_tr+n_assigned_co+n_assigned_bo,\n",
    "              n_onboarding_finished_ba+n_onboarding_finished_tr+n_onboarding_finished_co+n_onboarding_finished_bo,\n",
    "              n_appinst_ba+n_appinst_tr+n_appinst_co+n_appinst_bo,\n",
    "              n_day1_ba+n_day1_tr+n_day1_co+n_day1_bo,\n",
    "              n_day6_ba+n_day6_tr+n_day6_co+n_day6_bo),\n",
    "  total_perc = c(1,\n",
    "                 (n_onboarding_finished_ba+n_onboarding_finished_tr+n_onboarding_finished_co+n_onboarding_finished_bo)/(n_assigned_ba+n_assigned_tr+n_assigned_co+n_assigned_bo),\n",
    "                 (n_appinst_ba+n_appinst_co+n_appinst_bo+n_appinst_tr)/(n_onboarding_finished_ba+n_onboarding_finished_tr+n_onboarding_finished_co+n_onboarding_finished_bo),\n",
    "                 (n_day1_ba+n_day1_bo+n_day1_co+n_day1_tr)/(n_appinst_ba+n_appinst_co+n_appinst_bo+n_appinst_tr),\n",
    "                 (n_day6_ba+n_day6_bo+n_day6_co+n_day6_tr)/(n_day1_ba+n_day1_bo+n_day1_co+n_day1_tr)\n",
    "                 )\n",
    "  )\n",
    "\n",
    "View(df_table3)"
   ]
  },
  {
   "cell_type": "code",
   "execution_count": 10,
   "id": "0f2c99de",
   "metadata": {},
   "outputs": [
    {
     "name": "stdout",
     "output_type": "stream",
     "text": [
      "[1] \"Significance Test for differences in participation: Interst in Study -> Indicated Participation\"\n",
      "\n",
      "\tPearson's Chi-squared test\n",
      "\n",
      "data:  as.table(mat_onboarding)\n",
      "X-squared = 1.6067, df = 3, p-value = 0.6579\n",
      "\n"
     ]
    }
   ],
   "source": [
    "### Tests: Differences in participation and dropout between the four study conditions ###\n",
    "## (section 6.1 paragraph 2)\n",
    "\n",
    "## Interst in Study -> Indicated Participation\n",
    "mat_onboarding <- matrix(c(n_onboarding_finished_ba, \n",
    "                           n_onboarding_finished_tr,\n",
    "                           n_onboarding_finished_co,\n",
    "                           n_onboarding_finished_bo,\n",
    "                        max(0,n_assigned_ba-n_onboarding_finished_ba), \n",
    "                        max(0,n_assigned_tr-n_onboarding_finished_tr),\n",
    "                        max(0,n_assigned_co-n_onboarding_finished_co),\n",
    "                        max(0,n_assigned_bo-n_onboarding_finished_bo)\n",
    "                ), ncol=2)\n",
    "colnames(mat_onboarding) <- c(\"Onboarded\",\"Aborted\")\n",
    "row.names(mat_onboarding) <- c(\"baseline\",\"transparency\",\"control\",\"both\")\n",
    "test_onboarding <- chisq.test(as.table(mat_onboarding), correct = FALSE)\n",
    "print(\"Significance Test for differences in participation: Interst in Study -> Indicated Participation\")\n",
    "print(test_onboarding)"
   ]
  },
  {
   "cell_type": "code",
   "execution_count": 11,
   "id": "faacd681",
   "metadata": {},
   "outputs": [
    {
     "name": "stdout",
     "output_type": "stream",
     "text": [
      "[1] \"Significance Test for differences in participation: Indicated Participation -> App Installed\"\n",
      "\n",
      "\tPearson's Chi-squared test\n",
      "\n",
      "data:  as.table(mat)\n",
      "X-squared = 16.557, df = 3, p-value = 0.0008716\n",
      "\n",
      "[1] \"Onboarding Q finished -> App Inst : Significant relation found with p= 0.000871641628754211\"\n",
      "[1] \"Onboarding Q finished -> App Inst : Variables in the following table whose magnitude is higher than -2.73436878653318 occured significantly more/less often\"\n",
      "     Dimension     Value App Installed App Not Installed\n",
      "1     baseline Residuals     0.3237713        -0.3237713\n",
      "2     baseline  p values     1.0000000         1.0000000\n",
      "3 transparency Residuals    -3.4479014         3.4479014\n",
      "4 transparency  p values     0.0045200         0.0045200\n",
      "5      control Residuals     3.1236959        -3.1236959\n",
      "6      control  p values     0.0142880         0.0142880\n",
      "7         both Residuals     0.1158535        -0.1158535\n",
      "8         both  p values     1.0000000         1.0000000\n"
     ]
    }
   ],
   "source": [
    "## Indicated Participation -> App Installed\n",
    "mat_onbq_appinst <- matrix(c(n_appinst_ba, \n",
    "                        n_appinst_tr,\n",
    "                        n_appinst_co,\n",
    "                        n_appinst_bo,\n",
    "                        max(0,n_onboarding_finished_ba-n_appinst_ba), \n",
    "                        max(0,n_onboarding_finished_tr-n_appinst_tr),\n",
    "                        max(0,n_onboarding_finished_co-n_appinst_co),\n",
    "                        max(0,n_onboarding_finished_bo-n_appinst_bo)\n",
    "), ncol=2)\n",
    "colnames(mat_onbq_appinst) <- c(\"App Installed\",\"App Not Installed\")\n",
    "row.names(mat_onbq_appinst) <- c(\"baseline\",\"transparency\",\"control\",\"both\")\n",
    "\n",
    "print(\"Significance Test for differences in participation: Indicated Participation -> App Installed\")\n",
    "chi_sq_test(\"Indicated Participation -> App Installed\", mat_onbq_appinst)"
   ]
  },
  {
   "cell_type": "code",
   "execution_count": 12,
   "id": "de639f7d",
   "metadata": {},
   "outputs": [
    {
     "name": "stderr",
     "output_type": "stream",
     "text": [
      "Warning message in chisq.test(as.table(mat_inst_day1), correct = FALSE):\n",
      "\"Chi-squared approximation may be incorrect\"\n"
     ]
    },
    {
     "name": "stdout",
     "output_type": "stream",
     "text": [
      "[1] \"Significance Test for differences in participation: App Installed -> Kept app installed for at least one day\"\n",
      "\n",
      "\tPearson's Chi-squared test\n",
      "\n",
      "data:  as.table(mat_inst_day1)\n",
      "X-squared = 3.6742, df = 3, p-value = 0.2989\n",
      "\n"
     ]
    }
   ],
   "source": [
    "## App Installed -> Kept app installed for at least one day\n",
    "mat_inst_day1 <- matrix(c(n_day1_ba, \n",
    "                          n_day1_tr,\n",
    "                          n_day1_co,\n",
    "                          n_day1_bo,\n",
    "                          max(0,n_appinst_ba-n_day1_ba), \n",
    "                          max(0,n_appinst_tr-n_day1_tr),\n",
    "                          max(0,n_appinst_co-n_day1_co),\n",
    "                          max(0,n_appinst_bo-n_day1_bo)\n",
    "), ncol=2)\n",
    "colnames(mat_inst_day1) <- c(\"App 1+ day\",\"App less than 1 day\")\n",
    "row.names(mat_inst_day1) <- c(\"baseline\",\"transparency\",\"control\",\"both\")\n",
    "test_inst_day1 <- chisq.test(as.table(mat_inst_day1), correct = FALSE)\n",
    "print(\"Significance Test for differences in participation: App Installed -> Kept app installed for at least one day\")\n",
    "print(test_inst_day1)\n"
   ]
  },
  {
   "cell_type": "code",
   "execution_count": 13,
   "id": "4d26076f",
   "metadata": {},
   "outputs": [
    {
     "name": "stdout",
     "output_type": "stream",
     "text": [
      "[1] \"Significance Test for differences in participation: Kept app installed for at least one day -> Kept app until study end\"\n"
     ]
    },
    {
     "name": "stderr",
     "output_type": "stream",
     "text": [
      "Warning message in chisq.test(as.table(mat), correct = FALSE):\n",
      "\"Chi-squared approximation may be incorrect\"\n"
     ]
    },
    {
     "name": "stdout",
     "output_type": "stream",
     "text": [
      "\n",
      "\tPearson's Chi-squared test\n",
      "\n",
      "data:  as.table(mat)\n",
      "X-squared = 1.3901, df = 3, p-value = 0.7078\n",
      "\n",
      "[1] \"Kept app installed for at least one day -> Kept app until study end : No significant relation found\"\n"
     ]
    }
   ],
   "source": [
    "## Kept app installed for at least one day -> Kept app until study end\n",
    "n_day6_ba = nrow(users %>% filter(condition==\"baseline\" & days_in_study >= ddays(6)))\n",
    "n_day6_tr = nrow(users %>% filter(condition==\"transparency\" & days_in_study >= ddays(6)))\n",
    "n_day6_co = nrow(users %>% filter(condition==\"control\" & days_in_study >= ddays(6)))\n",
    "n_day6_bo = nrow(users %>% filter(condition==\"both\" & days_in_study >= ddays(6)))\n",
    "mat_day1_day6 <- matrix(c(n_day6_ba, \n",
    "                          n_day6_tr,\n",
    "                          n_day6_co,\n",
    "                          n_day6_bo,\n",
    "                          max(0,n_day1_ba-n_day6_ba), \n",
    "                          max(0,n_day1_tr-n_day6_tr),\n",
    "                          max(0,n_day1_co-n_day6_co),\n",
    "                          max(0,n_day1_bo-n_day6_bo)\n",
    "), ncol=2)\n",
    "colnames(mat_day1_day6) <- c(\"App 6+ day\",\"App less than 6 day\")\n",
    "row.names(mat_day1_day6) <- c(\"baseline\",\"transparency\",\"control\",\"both\")\n",
    "print(\"Significance Test for differences in participation: Kept app installed for at least one day -> Kept app until study end\")\n",
    "chi_sq_test(\"Kept app installed for at least one day -> Kept app until study end\",mat_day1_day6)"
   ]
  },
  {
   "cell_type": "code",
   "execution_count": 29,
   "id": "7150733f",
   "metadata": {},
   "outputs": [
    {
     "data": {
      "image/png": "[encoded data removed]",
      "text/plain": [
       "plot without title"
      ]
     },
     "metadata": {
      "image/png": {
       "height": 420,
       "width": 420
      }
     },
     "output_type": "display_data"
    }
   ],
   "source": [
    "## Chart: Study Progress (Figure 4)\n",
    "df_studyprogress <- data.frame(studyprogress = factor(c(\"interested in study\",\n",
    "                                    \"interested in study\",\n",
    "                                    \"interested in study\",\n",
    "                                    \"interested in study\",\n",
    "                                    \"indicated participation\",\n",
    "                                    \"indicated participation\",\n",
    "                                    \"indicated participation\",\n",
    "                                    \"indicated participation\",\n",
    "                                    \"installed app\",\n",
    "                                    \"installed app\",\n",
    "                                    \"installed app\",\n",
    "                                    \"installed app\",\n",
    "                                    \"study day 1\",\n",
    "                                    \"study day 1\",\n",
    "                                    \"study day 1\",\n",
    "                                    \"study day 1\",                                 \n",
    "                                    \"study end\",\n",
    "                                    \"study end\",\n",
    "                                    \"study end\",\n",
    "                                    \"study end\"\n",
    "                                    ), levels=c(\"interested in study\",\"indicated participation\",\"installed app\",\"study day 1\",\"study end\")), # this defines the order on the x axis\n",
    "                 condition = factor(c(\"baseline\", \n",
    "                               \"transparency\",\n",
    "                               \"control\",\n",
    "                               \"both\",\n",
    "                               \"baseline\", \n",
    "                               \"transparency\",\n",
    "                               \"control\",\n",
    "                               \"both\",\n",
    "                               \"baseline\", \n",
    "                               \"transparency\",\n",
    "                               \"control\",\n",
    "                               \"both\",\n",
    "                               \"baseline\", \n",
    "                               \"transparency\",\n",
    "                               \"control\",\n",
    "                               \"both\",\n",
    "                               \"baseline\", \n",
    "                               \"transparency\",\n",
    "                               \"control\",\n",
    "                               \"both\"),levels=c(\"baseline\",\"transparency\",\"control\",\"both\")),\n",
    "                 N = c(n_assigned_ba,\n",
    "                       n_assigned_tr,\n",
    "                       n_assigned_co,\n",
    "                       n_assigned_bo,\n",
    "                       n_onboarding_finished_ba,\n",
    "                       n_onboarding_finished_tr,\n",
    "                       n_onboarding_finished_co,\n",
    "                       n_onboarding_finished_bo,\n",
    "                       n_appinst_ba,\n",
    "                       n_appinst_tr,\n",
    "                       n_appinst_co,\n",
    "                       n_appinst_bo,\n",
    "                       n_day1_ba,\n",
    "                       n_day1_tr,\n",
    "                       n_day1_co,\n",
    "                       n_day1_bo,                \n",
    "                       n_day6_ba,\n",
    "                       n_day6_tr,\n",
    "                       n_day6_co,\n",
    "                       n_day6_bo\n",
    "                       )\n",
    ")\n",
    "\n",
    "ggplot(\n",
    "  data=data.frame(df_studyprogress), \n",
    "  aes(x = studyprogress, y = N, color = condition, group=condition)\n",
    "  ) + \n",
    "  geom_line(size = 2)+\n",
    "  scale_color_manual(values=c('#f3b94d','#00748d','#F241B8','#76F266'))+\n",
    "  theme_minimal()+\n",
    "  labs(x=\"phase of study\",y=\"N\", title=\"Figure 4\")+\n",
    "  scale_y_continuous(trans='log10') +\n",
    "  theme(\n",
    "    axis.text.x = element_text(angle = 45, hjust=1),\n",
    "    legend.position = c(.7, .7)\n",
    "    )"
   ]
  },
  {
   "cell_type": "code",
   "execution_count": 28,
   "id": "a9f44e75",
   "metadata": {},
   "outputs": [
    {
     "name": "stderr",
     "output_type": "stream",
     "text": [
      "`summarise()` ungrouping output (override with `.groups` argument)\n",
      "\n",
      "Joining, by = \"username\"\n",
      "\n",
      "Warning message:\n",
      "\"Removed 4 rows containing missing values (geom_bar).\"\n"
     ]
    },
    {
     "data": {
      "image/png": "[encoded data removed]",
      "text/plain": [
       "plot without title"
      ]
     },
     "metadata": {
      "image/png": {
       "height": 420,
       "width": 420
      }
     },
     "output_type": "display_data"
    }
   ],
   "source": [
    "### Usage of the Privacy Dashboard\n",
    "## import\n",
    "ps_dashboard_usage <- readRDS('data/app/ps_dashboard_usage.rds')\n",
    "\n",
    "## How is the usage distributed across the participants?\n",
    "ps_dashboard_usage_counts <- ps_dashboard_usage %>% \n",
    "  filter(dashboard_event == \"DASHBOARD_OPENED\") %>%\n",
    "  filter(condition %in% c(\"transparency\",\"both\")) %>%\n",
    "  group_by(username) %>%\n",
    "  dplyr::summarize(count=n()) %>%\n",
    "  dplyr::right_join(users %>% select(username,condition) %>% filter(condition %in% c(\"transparency\",\"both\"))) %>%\n",
    "  mutate(count = ifelse(is.na(count), 0, count)) %>%\n",
    "   mutate(transparency = condition %in% c(\"transparency\",\"both\"), control = condition %in% c(\"control\",\"both\"))\n",
    "\n",
    "library(plyr)\n",
    "mu <- ps_dashboard_usage_counts %>% ddply(\"condition\", summarise, grp.mean=mean(count))\n",
    " \n",
    "## Figure 5a\n",
    "ggplot(data = ps_dashboard_usage_counts, aes(x = count, fill=condition, color=condition)) +\n",
    "  geom_histogram(binwidth = 5, alpha=0.3, position=\"identity\") +\n",
    "  theme_minimal() + \n",
    "  labs(y = \"amount of users\", x = \"Amount of dashboard opens per user\")+\n",
    "  scale_fill_manual(values=c('#76F266','#00748d'))+\n",
    "  scale_color_manual(values=c('#76F266','#00748d'))+\n",
    "  # add mean line\n",
    "  geom_vline(data=mu, aes(xintercept=grp.mean, color=condition),\n",
    "             linetype=\"dashed\")+\n",
    "    xlim(-3,80)+\n",
    "  ylim(0,40)+\n",
    "    theme(\n",
    "    legend.position = c(.7, .7)\n",
    "    )"
   ]
  },
  {
   "cell_type": "code",
   "execution_count": 22,
   "id": "f2e3820e",
   "metadata": {},
   "outputs": [
    {
     "name": "stderr",
     "output_type": "stream",
     "text": [
      "`summarise()` ungrouping output (override with `.groups` argument)\n",
      "\n",
      "Joining, by = \"username\"\n",
      "\n",
      "Warning message:\n",
      "\"Removed 4 rows containing missing values (geom_bar).\"\n"
     ]
    },
    {
     "data": {
      "image/png": "[encoded data removed]",
      "text/plain": [
       "plot without title"
      ]
     },
     "metadata": {
      "image/png": {
       "height": 420,
       "width": 420
      }
     },
     "output_type": "display_data"
    }
   ],
   "source": [
    "### Usage of Control features\n",
    "psusage <- readRDS(\"data/app/ps_usage.rds\") # TODO file\n",
    "\n",
    "ps_control_usage_counts <- psusage %>% \n",
    "  filter(event == \"logging-feature-status-changed\") %>%\n",
    "  filter(condition %in% c(\"control\",\"both\")) %>%\n",
    "  group_by(username) %>%\n",
    "  dplyr::summarize(count=n()) %>%\n",
    "  dplyr::right_join(users %>% select(username,condition) %>% filter(condition %in% c(\"control\",\"both\"))) %>%\n",
    "  mutate(count = ifelse(is.na(count), 0, count))\n",
    "  \n",
    "library(plyr)\n",
    "mu2 <- ps_control_usage_counts %>% ddply(\"condition\", summarise, grp.mean=mean(count))\n",
    " \n",
    "# Figure 5b\n",
    "ggplot(data = ps_control_usage_counts, aes(x = count, fill=condition, color=condition)) +\n",
    "  geom_histogram(binwidth = 5, alpha=0.3, position=\"identity\") +\n",
    "  theme_minimal() + \n",
    "  labs(y = \"amount of users\", x = \"Amount of logging stoppages per user\")+\n",
    "  scale_fill_manual(values=c('#76F266','#F241B8'))+\n",
    "  scale_color_manual(values=c('#76F266','#F241B8'))+\n",
    "  # add mean line\n",
    "  geom_vline(data=mu2, aes(xintercept=grp.mean, color=condition),\n",
    "             linetype=\"dashed\")+\n",
    "  xlim(-3,80)+\n",
    "  ylim(0,40)+\n",
    "    theme(\n",
    "    legend.position = c(.7, .7)\n",
    "    )"
   ]
  },
  {
   "cell_type": "code",
   "execution_count": 30,
   "id": "90d0e598",
   "metadata": {},
   "outputs": [
    {
     "name": "stderr",
     "output_type": "stream",
     "text": [
      "Warning message in leveneTest.default(y = y, group = group, ...):\n",
      "\"group coerced to factor.\"\n"
     ]
    },
    {
     "name": "stdout",
     "output_type": "stream",
     "text": [
      "[1] \"is normally distributed:  FALSE , has equal variances:  TRUE\"\n",
      "[1] \"continuing with Mann-Whitney U Test\"\n"
     ]
    },
    {
     "name": "stderr",
     "output_type": "stream",
     "text": [
      "Warning message in wilcox.test.default(df1, df2):\n",
      "\"cannot compute exact p-value with ties\"\n"
     ]
    },
    {
     "name": "stdout",
     "output_type": "stream",
     "text": [
      "\n",
      "\tWilcoxon rank sum test with continuity correction\n",
      "\n",
      "data:  df1 and df2\n",
      "W = 631.5, p-value = 0.4301\n",
      "alternative hypothesis: true location shift is not equal to 0\n",
      "\n"
     ]
    }
   ],
   "source": [
    "### Tests: Differences in the usage of Transparency features between the four study conditions ###\n",
    "## (section 6.1 paragraph 3)\n",
    "# independent samples t test\n",
    "independent_samples_t_test(\n",
    "    ps_dashboard_usage_counts %>% \n",
    "    filter(condition == \"transparency\") %>% \n",
    "    .$count, ps_dashboard_usage_counts %>% \n",
    "    filter(condition == \"both\") %>% \n",
    "    .$count, ps_dashboard_usage_counts\n",
    ")\n"
   ]
  },
  {
   "cell_type": "code",
   "execution_count": null,
   "id": "a28bb71c",
   "metadata": {},
   "outputs": [],
   "source": [
    "\n"
   ]
  },
  {
   "cell_type": "code",
   "execution_count": 31,
   "id": "9344f0ff",
   "metadata": {},
   "outputs": [
    {
     "name": "stderr",
     "output_type": "stream",
     "text": [
      "Warning message in leveneTest.default(y = y, group = group, ...):\n",
      "\"group coerced to factor.\"\n"
     ]
    },
    {
     "name": "stdout",
     "output_type": "stream",
     "text": [
      "[1] \"is normally distributed:  FALSE , has equal variances:  TRUE\"\n",
      "[1] \"continuing with Mann-Whitney U Test\"\n"
     ]
    },
    {
     "name": "stderr",
     "output_type": "stream",
     "text": [
      "Warning message in wilcox.test.default(df1, df2):\n",
      "\"cannot compute exact p-value with ties\"\n"
     ]
    },
    {
     "name": "stdout",
     "output_type": "stream",
     "text": [
      "\n",
      "\tWilcoxon rank sum test with continuity correction\n",
      "\n",
      "data:  df1 and df2\n",
      "W = 960, p-value = 0.3945\n",
      "alternative hypothesis: true location shift is not equal to 0\n",
      "\n"
     ]
    }
   ],
   "source": [
    "### Tests: Differences in the usage of Control features between the four study conditions ###\n",
    "## (section 6.1 paragraph 4)\n",
    "# independent samples t test\n",
    "independent_samples_t_test(\n",
    "    ps_control_usage_counts %>% \n",
    "    filter(condition == \"control\") %>% \n",
    "    .$count, ps_control_usage_counts %>% \n",
    "    filter(condition == \"both\") %>% \n",
    "    .$count, ps_control_usage_counts\n",
    ")"
   ]
  },
  {
   "cell_type": "code",
   "execution_count": 32,
   "id": "17db841a",
   "metadata": {
    "tags": []
   },
   "outputs": [
    {
     "name": "stdout",
     "output_type": "stream",
     "text": [
      "[1] \"sample is not normally distributed, continuing with Sven's special anova test (ARTool)\"\n"
     ]
    },
    {
     "data": {
      "text/html": [
       "<table class=\"dataframe\">\n",
       "<caption>A anova.art: 3 × 7</caption>\n",
       "<thead>\n",
       "\t<tr><th></th><th scope=col>Term</th><th scope=col>Df</th><th scope=col>Df.res</th><th scope=col>Sum Sq</th><th scope=col>Sum Sq.res</th><th scope=col>F value</th><th scope=col>Pr(&gt;F)</th></tr>\n",
       "\t<tr><th></th><th scope=col>&lt;fct&gt;</th><th scope=col>&lt;dbl&gt;</th><th scope=col>&lt;dbl&gt;</th><th scope=col>&lt;dbl&gt;</th><th scope=col>&lt;dbl&gt;</th><th scope=col>&lt;dbl&gt;</th><th scope=col>&lt;dbl&gt;</th></tr>\n",
       "</thead>\n",
       "<tbody>\n",
       "\t<tr><th scope=row>1</th><td>transparency        </td><td>1</td><td>114</td><td>13728.4969</td><td>122096.8</td><td>12.8180987</td><td>0.0005056755</td></tr>\n",
       "\t<tr><th scope=row>2</th><td>control             </td><td>1</td><td>114</td><td> 3090.6956</td><td>130856.2</td><td> 2.6925688</td><td>0.1035734073</td></tr>\n",
       "\t<tr><th scope=row>3</th><td>transparency:control</td><td>1</td><td>114</td><td>  177.7875</td><td>132568.3</td><td> 0.1528855</td><td>0.6965227392</td></tr>\n",
       "</tbody>\n",
       "</table>\n"
      ],
      "text/latex": [
       "A anova.art: 3 × 7\n",
       "\\begin{tabular}{r|lllllll}\n",
       "  & Term & Df & Df.res & Sum Sq & Sum Sq.res & F value & Pr(>F)\\\\\n",
       "  & <fct> & <dbl> & <dbl> & <dbl> & <dbl> & <dbl> & <dbl>\\\\\n",
       "\\hline\n",
       "\t1 & transparency         & 1 & 114 & 13728.4969 & 122096.8 & 12.8180987 & 0.0005056755\\\\\n",
       "\t2 & control              & 1 & 114 &  3090.6956 & 130856.2 &  2.6925688 & 0.1035734073\\\\\n",
       "\t3 & transparency:control & 1 & 114 &   177.7875 & 132568.3 &  0.1528855 & 0.6965227392\\\\\n",
       "\\end{tabular}\n"
      ],
      "text/markdown": [
       "\n",
       "A anova.art: 3 × 7\n",
       "\n",
       "| <!--/--> | Term &lt;fct&gt; | Df &lt;dbl&gt; | Df.res &lt;dbl&gt; | Sum Sq &lt;dbl&gt; | Sum Sq.res &lt;dbl&gt; | F value &lt;dbl&gt; | Pr(&gt;F) &lt;dbl&gt; |\n",
       "|---|---|---|---|---|---|---|---|\n",
       "| 1 | transparency         | 1 | 114 | 13728.4969 | 122096.8 | 12.8180987 | 0.0005056755 |\n",
       "| 2 | control              | 1 | 114 |  3090.6956 | 130856.2 |  2.6925688 | 0.1035734073 |\n",
       "| 3 | transparency:control | 1 | 114 |   177.7875 | 132568.3 |  0.1528855 | 0.6965227392 |\n",
       "\n"
      ],
      "text/plain": [
       "  Term                 Df Df.res Sum Sq     Sum Sq.res F value    Pr(>F)      \n",
       "1 transparency         1  114    13728.4969 122096.8   12.8180987 0.0005056755\n",
       "2 control              1  114     3090.6956 130856.2    2.6925688 0.1035734073\n",
       "3 transparency:control 1  114      177.7875 132568.3    0.1528855 0.6965227392"
      ]
     },
     "metadata": {},
     "output_type": "display_data"
    },
    {
     "name": "stdout",
     "output_type": "stream",
     "text": [
      "[1] \"sample is not normally distributed, continuing with Sven's special anova test (ARTool)\"\n"
     ]
    },
    {
     "data": {
      "text/html": [
       "<table class=\"dataframe\">\n",
       "<caption>A anova.art: 3 × 7</caption>\n",
       "<thead>\n",
       "\t<tr><th></th><th scope=col>Term</th><th scope=col>Df</th><th scope=col>Df.res</th><th scope=col>Sum Sq</th><th scope=col>Sum Sq.res</th><th scope=col>F value</th><th scope=col>Pr(&gt;F)</th></tr>\n",
       "\t<tr><th></th><th scope=col>&lt;fct&gt;</th><th scope=col>&lt;dbl&gt;</th><th scope=col>&lt;dbl&gt;</th><th scope=col>&lt;dbl&gt;</th><th scope=col>&lt;dbl&gt;</th><th scope=col>&lt;dbl&gt;</th><th scope=col>&lt;dbl&gt;</th></tr>\n",
       "</thead>\n",
       "<tbody>\n",
       "\t<tr><th scope=row>1</th><td>transparency        </td><td>1</td><td>112</td><td>3448.6025</td><td>123191.3</td><td>3.1353157</td><td>0.0793341</td></tr>\n",
       "\t<tr><th scope=row>2</th><td>control             </td><td>1</td><td>112</td><td>1925.4024</td><td>126353.9</td><td>1.7066749</td><td>0.1940938</td></tr>\n",
       "\t<tr><th scope=row>3</th><td>transparency:control</td><td>1</td><td>112</td><td> 574.6826</td><td>127236.4</td><td>0.5058649</td><td>0.4784131</td></tr>\n",
       "</tbody>\n",
       "</table>\n"
      ],
      "text/latex": [
       "A anova.art: 3 × 7\n",
       "\\begin{tabular}{r|lllllll}\n",
       "  & Term & Df & Df.res & Sum Sq & Sum Sq.res & F value & Pr(>F)\\\\\n",
       "  & <fct> & <dbl> & <dbl> & <dbl> & <dbl> & <dbl> & <dbl>\\\\\n",
       "\\hline\n",
       "\t1 & transparency         & 1 & 112 & 3448.6025 & 123191.3 & 3.1353157 & 0.0793341\\\\\n",
       "\t2 & control              & 1 & 112 & 1925.4024 & 126353.9 & 1.7066749 & 0.1940938\\\\\n",
       "\t3 & transparency:control & 1 & 112 &  574.6826 & 127236.4 & 0.5058649 & 0.4784131\\\\\n",
       "\\end{tabular}\n"
      ],
      "text/markdown": [
       "\n",
       "A anova.art: 3 × 7\n",
       "\n",
       "| <!--/--> | Term &lt;fct&gt; | Df &lt;dbl&gt; | Df.res &lt;dbl&gt; | Sum Sq &lt;dbl&gt; | Sum Sq.res &lt;dbl&gt; | F value &lt;dbl&gt; | Pr(&gt;F) &lt;dbl&gt; |\n",
       "|---|---|---|---|---|---|---|---|\n",
       "| 1 | transparency         | 1 | 112 | 3448.6025 | 123191.3 | 3.1353157 | 0.0793341 |\n",
       "| 2 | control              | 1 | 112 | 1925.4024 | 126353.9 | 1.7066749 | 0.1940938 |\n",
       "| 3 | transparency:control | 1 | 112 |  574.6826 | 127236.4 | 0.5058649 | 0.4784131 |\n",
       "\n"
      ],
      "text/plain": [
       "  Term                 Df Df.res Sum Sq    Sum Sq.res F value   Pr(>F)   \n",
       "1 transparency         1  112    3448.6025 123191.3   3.1353157 0.0793341\n",
       "2 control              1  112    1925.4024 126353.9   1.7066749 0.1940938\n",
       "3 transparency:control 1  112     574.6826 127236.4   0.5058649 0.4784131"
      ]
     },
     "metadata": {},
     "output_type": "display_data"
    }
   ],
   "source": [
    "### Section 6.2: Logging Awareness and Understanding\n",
    "## 6.2.1 Data Understanding\n",
    "### Data Understanding (Nachher)\n",
    "library(viridis)\n",
    "\n",
    "# two way anova (see R Console)\n",
    "df <- data_postq %>% select(condition,transparency,control,data_understanding_v2) %>% filter(!is.na(data_understanding_v2))\n",
    "twoway_anova_test(\"Test Items: Data Understanding\", df,\"data_understanding_v2\")\n",
    "\n",
    "#### Data Understanding - vorher nachher Vergleich\n",
    "library(viridis)\n",
    "data_q_prepost <- data_postq %>% \n",
    "  dplyr::rename(data_understanding_e=data_understanding_v2) %>%\n",
    "  inner_join(data_startq %>% select(username,data_understanding_v2) %>% dplyr::rename(data_understanding_s=data_understanding_v2),by=c(\"username\")) %>%\n",
    "  mutate(data_understanding_diff = data_understanding_e-data_understanding_s)\n",
    "\n",
    "\n",
    "\n",
    "# two way anova (see R Console)\n",
    "df <- data_q_prepost %>% select(condition,transparency,control,data_understanding_diff) %>% filter(!is.na(data_understanding_diff))\n",
    "twoway_anova_test(\"Test Items: Data Understanding\", df,\"data_understanding_diff\")\n"
   ]
  },
  {
   "cell_type": "code",
   "execution_count": 13,
   "id": "6204b788-c19c-4f04-a27b-7dec5fe7a7ec",
   "metadata": {},
   "outputs": [
    {
     "data": {
      "text/html": [
       "<table class=\"dataframe\">\n",
       "<caption>A data.frame: 3 × 5</caption>\n",
       "<thead>\n",
       "\t<tr><th scope=col>Subject</th><th scope=col>Baseline</th><th scope=col>Transparency</th><th scope=col>Control</th><th scope=col>Both</th></tr>\n",
       "\t<tr><th scope=col>&lt;fct&gt;</th><th scope=col>&lt;dbl&gt;</th><th scope=col>&lt;dbl&gt;</th><th scope=col>&lt;dbl&gt;</th><th scope=col>&lt;dbl&gt;</th></tr>\n",
       "</thead>\n",
       "<tbody>\n",
       "\t<tr><td>Pre-Study Questionnaire [0;10]  </td><td>6.5517241</td><td> 7.9090909</td><td>6.5405405</td><td>8.0833333</td></tr>\n",
       "\t<tr><td>Post-Study Questionnaire [0;10] </td><td>6.6296296</td><td> 7.1304348</td><td>7.2058824</td><td>8.4411765</td></tr>\n",
       "\t<tr><td>Difference Before/After [-10;10]</td><td>0.2962963</td><td>-0.8181818</td><td>0.5588235</td><td>0.3333333</td></tr>\n",
       "</tbody>\n",
       "</table>\n"
      ],
      "text/latex": [
       "A data.frame: 3 × 5\n",
       "\\begin{tabular}{lllll}\n",
       " Subject & Baseline & Transparency & Control & Both\\\\\n",
       " <fct> & <dbl> & <dbl> & <dbl> & <dbl>\\\\\n",
       "\\hline\n",
       "\t Pre-Study Questionnaire {[}0;10{]}   & 6.5517241 &  7.9090909 & 6.5405405 & 8.0833333\\\\\n",
       "\t Post-Study Questionnaire {[}0;10{]}  & 6.6296296 &  7.1304348 & 7.2058824 & 8.4411765\\\\\n",
       "\t Difference Before/After {[}-10;10{]} & 0.2962963 & -0.8181818 & 0.5588235 & 0.3333333\\\\\n",
       "\\end{tabular}\n"
      ],
      "text/markdown": [
       "\n",
       "A data.frame: 3 × 5\n",
       "\n",
       "| Subject &lt;fct&gt; | Baseline &lt;dbl&gt; | Transparency &lt;dbl&gt; | Control &lt;dbl&gt; | Both &lt;dbl&gt; |\n",
       "|---|---|---|---|---|\n",
       "| Pre-Study Questionnaire [0;10]   | 6.5517241 |  7.9090909 | 6.5405405 | 8.0833333 |\n",
       "| Post-Study Questionnaire [0;10]  | 6.6296296 |  7.1304348 | 7.2058824 | 8.4411765 |\n",
       "| Difference Before/After [-10;10] | 0.2962963 | -0.8181818 | 0.5588235 | 0.3333333 |\n",
       "\n"
      ],
      "text/plain": [
       "  Subject                          Baseline  Transparency Control   Both     \n",
       "1 Pre-Study Questionnaire [0;10]   6.5517241  7.9090909   6.5405405 8.0833333\n",
       "2 Post-Study Questionnaire [0;10]  6.6296296  7.1304348   7.2058824 8.4411765\n",
       "3 Difference Before/After [-10;10] 0.2962963 -0.8181818   0.5588235 0.3333333"
      ]
     },
     "metadata": {},
     "output_type": "display_data"
    },
    {
     "data": {
      "text/html": [
       "<table class=\"dataframe\">\n",
       "<caption>A data.frame: 3 × 5</caption>\n",
       "<thead>\n",
       "\t<tr><th scope=col>Subject</th><th scope=col>Baseline</th><th scope=col>Transparency</th><th scope=col>Control</th><th scope=col>Both</th></tr>\n",
       "\t<tr><th scope=col>&lt;fct&gt;</th><th scope=col>&lt;dbl&gt;</th><th scope=col>&lt;dbl&gt;</th><th scope=col>&lt;dbl&gt;</th><th scope=col>&lt;dbl&gt;</th></tr>\n",
       "</thead>\n",
       "<tbody>\n",
       "\t<tr><td>Pre-Study Questionnaire [0;10]  </td><td>5.724138</td><td>6.272727</td><td>6.054054</td><td>5.833333</td></tr>\n",
       "\t<tr><td>Post-Study Questionnaire [0;10] </td><td>6.259259</td><td>6.608696</td><td>6.500000</td><td>6.558824</td></tr>\n",
       "\t<tr><td>Difference Before/After [-10;10]</td><td>6.259259</td><td>6.454545</td><td>6.500000</td><td>6.575758</td></tr>\n",
       "</tbody>\n",
       "</table>\n"
      ],
      "text/latex": [
       "A data.frame: 3 × 5\n",
       "\\begin{tabular}{lllll}\n",
       " Subject & Baseline & Transparency & Control & Both\\\\\n",
       " <fct> & <dbl> & <dbl> & <dbl> & <dbl>\\\\\n",
       "\\hline\n",
       "\t Pre-Study Questionnaire {[}0;10{]}   & 5.724138 & 6.272727 & 6.054054 & 5.833333\\\\\n",
       "\t Post-Study Questionnaire {[}0;10{]}  & 6.259259 & 6.608696 & 6.500000 & 6.558824\\\\\n",
       "\t Difference Before/After {[}-10;10{]} & 6.259259 & 6.454545 & 6.500000 & 6.575758\\\\\n",
       "\\end{tabular}\n"
      ],
      "text/markdown": [
       "\n",
       "A data.frame: 3 × 5\n",
       "\n",
       "| Subject &lt;fct&gt; | Baseline &lt;dbl&gt; | Transparency &lt;dbl&gt; | Control &lt;dbl&gt; | Both &lt;dbl&gt; |\n",
       "|---|---|---|---|---|\n",
       "| Pre-Study Questionnaire [0;10]   | 5.724138 | 6.272727 | 6.054054 | 5.833333 |\n",
       "| Post-Study Questionnaire [0;10]  | 6.259259 | 6.608696 | 6.500000 | 6.558824 |\n",
       "| Difference Before/After [-10;10] | 6.259259 | 6.454545 | 6.500000 | 6.575758 |\n",
       "\n"
      ],
      "text/plain": [
       "  Subject                          Baseline Transparency Control  Both    \n",
       "1 Pre-Study Questionnaire [0;10]   5.724138 6.272727     6.054054 5.833333\n",
       "2 Post-Study Questionnaire [0;10]  6.259259 6.608696     6.500000 6.558824\n",
       "3 Difference Before/After [-10;10] 6.259259 6.454545     6.500000 6.575758"
      ]
     },
     "metadata": {},
     "output_type": "display_data"
    }
   ],
   "source": [
    "### Data Understanding + Knowledge: Table 4\n",
    "\n",
    "data.frame(\n",
    "  \"Subject\" = c(\"Pre-Study Questionnaire [0;10]\",\"Post-Study Questionnaire [0;10]\",\"Difference Before/After [-10;10]\"),\n",
    "  Baseline = c(\n",
    "    (data_startq %>% filter(condition==\"baseline\") %>% summarize(mean=mean(data_understanding_v2)))$mean,\n",
    "    (data_postq %>% filter(condition==\"baseline\") %>% summarize(mean=mean(data_understanding_v2,na.rm=TRUE)))$mean,\n",
    "    (data_q_prepost %>% filter(condition==\"baseline\") %>% summarize(mean=mean(data_understanding_diff,na.rm=TRUE)))$mean\n",
    "    ),\n",
    "   Transparency = c(\n",
    "    (data_startq %>% filter(condition==\"transparency\") %>% summarize(mean=mean(data_understanding_v2)))$mean,\n",
    "    (data_postq %>% filter(condition==\"transparency\") %>% summarize(mean=mean(data_understanding_v2,na.rm=TRUE)))$mean,\n",
    "    (data_q_prepost %>% filter(condition==\"transparency\") %>% summarize(mean=mean(data_understanding_diff,na.rm=TRUE)))$mean\n",
    "    ),\n",
    "   Control = c(\n",
    "    (data_startq %>% filter(condition==\"control\") %>% summarize(mean=mean(data_understanding_v2)))$mean,\n",
    "    (data_postq %>% filter(condition==\"control\") %>% summarize(mean=mean(data_understanding_v2,na.rm=TRUE)))$mean,\n",
    "    (data_q_prepost %>% filter(condition==\"control\") %>% summarize(mean=mean(data_understanding_diff,na.rm=TRUE)))$mean\n",
    "    ),\n",
    "   Both = c(\n",
    "    (data_startq %>% filter(condition==\"both\") %>% summarize(mean=mean(data_understanding_v2)))$mean,\n",
    "    (data_postq %>% filter(condition==\"both\") %>% summarize(mean=mean(data_understanding_v2,na.rm=TRUE)))$mean,\n",
    "    (data_q_prepost %>% filter(condition==\"both\") %>% summarize(mean=mean(data_understanding_diff,na.rm=TRUE)))$mean\n",
    "    )\n",
    ")\n",
    "\n",
    "data.frame(\n",
    "  \"Subject\" = c(\"Pre-Study Questionnaire [0;10]\",\"Post-Study Questionnaire [0;10]\",\"Difference Before/After [-10;10]\"),\n",
    "  Baseline = c(\n",
    "    (data_startq %>% filter(condition==\"baseline\") %>% summarize(mean=mean(logging_awareness_v2)))$mean,\n",
    "    (data_postq %>% filter(condition==\"baseline\") %>% summarize(mean=mean(logging_awareness_v2,na.rm=TRUE)))$mean,\n",
    "    (data_q_prepost %>% filter(condition==\"baseline\") %>% summarize(mean=mean(logging_awareness_v2,na.rm=TRUE)))$mean\n",
    "    ),\n",
    "   Transparency = c(\n",
    "    (data_startq %>% filter(condition==\"transparency\") %>% summarize(mean=mean(logging_awareness_v2)))$mean,\n",
    "    (data_postq %>% filter(condition==\"transparency\") %>% summarize(mean=mean(logging_awareness_v2,na.rm=TRUE)))$mean,\n",
    "    (data_q_prepost %>% filter(condition==\"transparency\") %>% summarize(mean=mean(logging_awareness_v2,na.rm=TRUE)))$mean\n",
    "    ),\n",
    "   Control = c(\n",
    "    (data_startq %>% filter(condition==\"control\") %>% summarize(mean=mean(logging_awareness_v2)))$mean,\n",
    "    (data_postq %>% filter(condition==\"control\") %>% summarize(mean=mean(logging_awareness_v2,na.rm=TRUE)))$mean,\n",
    "    (data_q_prepost %>% filter(condition==\"control\") %>% summarize(mean=mean(logging_awareness_v2,na.rm=TRUE)))$mean\n",
    "    ),\n",
    "   Both = c(\n",
    "    (data_startq %>% filter(condition==\"both\") %>% summarize(mean=mean(logging_awareness_v2)))$mean,\n",
    "    (data_postq %>% filter(condition==\"both\") %>% summarize(mean=mean(logging_awareness_v2,na.rm=TRUE)))$mean,\n",
    "    (data_q_prepost %>% filter(condition==\"both\") %>% summarize(mean=mean(logging_awareness_v2,na.rm=TRUE)))$mean\n",
    "    )\n",
    ")"
   ]
  },
  {
   "cell_type": "code",
   "execution_count": 33,
   "id": "36621845",
   "metadata": {},
   "outputs": [
    {
     "name": "stdout",
     "output_type": "stream",
     "text": [
      "[1] \"sample is not normally distributed, continuing with Sven's special anova test (ARTool)\"\n"
     ]
    },
    {
     "data": {
      "text/html": [
       "<table class=\"dataframe\">\n",
       "<caption>A anova.art: 3 × 7</caption>\n",
       "<thead>\n",
       "\t<tr><th></th><th scope=col>Term</th><th scope=col>Df</th><th scope=col>Df.res</th><th scope=col>Sum Sq</th><th scope=col>Sum Sq.res</th><th scope=col>F value</th><th scope=col>Pr(&gt;F)</th></tr>\n",
       "\t<tr><th></th><th scope=col>&lt;fct&gt;</th><th scope=col>&lt;dbl&gt;</th><th scope=col>&lt;dbl&gt;</th><th scope=col>&lt;dbl&gt;</th><th scope=col>&lt;dbl&gt;</th><th scope=col>&lt;dbl&gt;</th><th scope=col>&lt;dbl&gt;</th></tr>\n",
       "</thead>\n",
       "<tbody>\n",
       "\t<tr><th scope=row>1</th><td>transparency        </td><td>1</td><td>112</td><td> 116.4914</td><td>129416.2</td><td>0.1008145</td><td>0.7514455</td></tr>\n",
       "\t<tr><th scope=row>2</th><td>control             </td><td>1</td><td>112</td><td> 393.1843</td><td>128959.6</td><td>0.3414762</td><td>0.5601536</td></tr>\n",
       "\t<tr><th scope=row>3</th><td>transparency:control</td><td>1</td><td>112</td><td>1952.4838</td><td>126214.4</td><td>1.7325937</td><td>0.1907675</td></tr>\n",
       "</tbody>\n",
       "</table>\n"
      ],
      "text/latex": [
       "A anova.art: 3 × 7\n",
       "\\begin{tabular}{r|lllllll}\n",
       "  & Term & Df & Df.res & Sum Sq & Sum Sq.res & F value & Pr(>F)\\\\\n",
       "  & <fct> & <dbl> & <dbl> & <dbl> & <dbl> & <dbl> & <dbl>\\\\\n",
       "\\hline\n",
       "\t1 & transparency         & 1 & 112 &  116.4914 & 129416.2 & 0.1008145 & 0.7514455\\\\\n",
       "\t2 & control              & 1 & 112 &  393.1843 & 128959.6 & 0.3414762 & 0.5601536\\\\\n",
       "\t3 & transparency:control & 1 & 112 & 1952.4838 & 126214.4 & 1.7325937 & 0.1907675\\\\\n",
       "\\end{tabular}\n"
      ],
      "text/markdown": [
       "\n",
       "A anova.art: 3 × 7\n",
       "\n",
       "| <!--/--> | Term &lt;fct&gt; | Df &lt;dbl&gt; | Df.res &lt;dbl&gt; | Sum Sq &lt;dbl&gt; | Sum Sq.res &lt;dbl&gt; | F value &lt;dbl&gt; | Pr(&gt;F) &lt;dbl&gt; |\n",
       "|---|---|---|---|---|---|---|---|\n",
       "| 1 | transparency         | 1 | 112 |  116.4914 | 129416.2 | 0.1008145 | 0.7514455 |\n",
       "| 2 | control              | 1 | 112 |  393.1843 | 128959.6 | 0.3414762 | 0.5601536 |\n",
       "| 3 | transparency:control | 1 | 112 | 1952.4838 | 126214.4 | 1.7325937 | 0.1907675 |\n",
       "\n"
      ],
      "text/plain": [
       "  Term                 Df Df.res Sum Sq    Sum Sq.res F value   Pr(>F)   \n",
       "1 transparency         1  112     116.4914 129416.2   0.1008145 0.7514455\n",
       "2 control              1  112     393.1843 128959.6   0.3414762 0.5601536\n",
       "3 transparency:control 1  112    1952.4838 126214.4   1.7325937 0.1907675"
      ]
     },
     "metadata": {},
     "output_type": "display_data"
    }
   ],
   "source": [
    "## 6.2.2 Logging Knowledge\n",
    "\n",
    "data_q_prepost <- data_postq %>% \n",
    "  dplyr::rename(logging_knowledge_e=logging_awareness_v2) %>%\n",
    "  inner_join(data_startq %>% select(username,logging_awareness_v2) %>% dplyr::rename(logging_knowledge_s=logging_awareness_v2),by=c(\"username\")) %>%\n",
    "  mutate(logging_knowledge_diff = logging_knowledge_e-logging_knowledge_s)\n",
    "\n",
    "\n",
    "# two way anova (see R Console)\n",
    "df <- data_q_prepost %>% select(condition,transparency,control,logging_knowledge_diff) %>% filter(!is.na(logging_knowledge_diff))\n",
    "twoway_anova_test(\"Test Items: Logging Knowledge Diff\", df,\"logging_knowledge_diff\")\n"
   ]
  },
  {
   "cell_type": "code",
   "execution_count": 35,
   "id": "010a77c0-9c51-4c61-8cfd-5d4f7619078c",
   "metadata": {},
   "outputs": [
    {
     "name": "stderr",
     "output_type": "stream",
     "text": [
      "Warning message:\n",
      "\"package 'likert' was built under R version 3.6.3\"\n",
      "Loading required package: xtable\n",
      "\n",
      "\n",
      "Attaching package: 'likert'\n",
      "\n",
      "\n",
      "The following object is masked from 'package:car':\n",
      "\n",
      "    recode\n",
      "\n",
      "\n",
      "The following object is masked from 'package:dplyr':\n",
      "\n",
      "    recode\n",
      "\n",
      "\n"
     ]
    },
    {
     "name": "stdout",
     "output_type": "stream",
     "text": [
      "[1] \"sample is normally distributed, continuing with standard anova\"\n"
     ]
    },
    {
     "data": {
      "text/plain": [
       "                      Df Sum Sq Mean Sq F value Pr(>F)\n",
       "transparency           1   0.35   0.347   0.137  0.712\n",
       "control                1   0.08   0.075   0.030  0.863\n",
       "transparency:control   1   3.90   3.898   1.543  0.217\n",
       "Residuals            111 280.41   2.526               "
      ]
     },
     "metadata": {},
     "output_type": "display_data"
    },
    {
     "name": "stdout",
     "output_type": "stream",
     "text": [
      "[1] \"sample is normally distributed, continuing with standard anova\"\n"
     ]
    },
    {
     "data": {
      "text/plain": [
       "                      Df Sum Sq Mean Sq F value Pr(>F)  \n",
       "transparency           1   0.00   0.002   0.001 0.9775  \n",
       "control                1   0.63   0.627   0.227 0.6344  \n",
       "transparency:control   1   9.90   9.904   3.590 0.0607 .\n",
       "Residuals            111 306.21   2.759                 \n",
       "---\n",
       "Signif. codes:  0 '***' 0.001 '**' 0.01 '*' 0.05 '.' 0.1 ' ' 1"
      ]
     },
     "metadata": {},
     "output_type": "display_data"
    },
    {
     "name": "stdout",
     "output_type": "stream",
     "text": [
      "[1] \"sample is normally distributed, continuing with standard anova\"\n"
     ]
    },
    {
     "data": {
      "text/plain": [
       "                      Df Sum Sq Mean Sq F value Pr(>F)\n",
       "transparency           1   1.22  1.2234   0.475  0.492\n",
       "control                1   2.46  2.4615   0.957  0.330\n",
       "transparency:control   1   0.44  0.4355   0.169  0.682\n",
       "Residuals            111 285.65  2.5735               "
      ]
     },
     "metadata": {},
     "output_type": "display_data"
    },
    {
     "name": "stdout",
     "output_type": "stream",
     "text": [
      "[1] \"sample is normally distributed, continuing with standard anova\"\n"
     ]
    },
    {
     "data": {
      "text/plain": [
       "                      Df Sum Sq Mean Sq F value Pr(>F)\n",
       "transparency           1   1.48  1.4835   0.677  0.412\n",
       "control                1   1.93  1.9251   0.879  0.351\n",
       "transparency:control   1   0.06  0.0551   0.025  0.874\n",
       "Residuals            111 243.11  2.1902               "
      ]
     },
     "metadata": {},
     "output_type": "display_data"
    },
    {
     "ename": "ERROR",
     "evalue": "Error in ks.test(x = as.numeric(data_x), y = as.numeric(data_y), alternative = c(\"two.sided\", : not enough 'x' data\n",
     "output_type": "error",
     "traceback": [
      "Error in ks.test(x = as.numeric(data_x), y = as.numeric(data_y), alternative = c(\"two.sided\", : not enough 'x' data\nTraceback:\n",
      "1. ks.test(x = as.numeric(data_x), y = as.numeric(data_y), alternative = c(\"two.sided\", \n .     \"less\", \"greater\"), exact = NULL)",
      "2. stop(\"not enough 'x' data\")"
     ]
    }
   ],
   "source": [
    "## 6.3 Behavior Change and Self Reflection\n",
    "library(likert)\n",
    "data2 <- data_postq %>% \n",
    "  select(condition,transparency,control,starts_with(\"BC01_\")) %>%\n",
    "  filter(!is.na(BC01_04)) %>%\n",
    "  mutate(condition= ifelse(condition==\"baseline\",\"Baseline\",ifelse(condition==\"transparency\",\"Transparency Features\",ifelse(condition==\"control\",\"Control Features\",ifelse(condition==\"both\",\"Both\",condition))))) %>%\n",
    "  mutate_all(as.factor)\n",
    "\n",
    "\n",
    "names(data2) <- c(\"condition\", \"transparency\",\"control\",\n",
    "                         \"(1) I learned new things about myself\", # 1. habe ich Neues über mich gelernt\n",
    "                         \"(2) I learned new things about my behavior\", # 2. habe ich Neues über mein Verhalten gelernt\n",
    "                         \"(3) I have changed my smartphone usage\", # 3. habe ich meine Smartphone Nutzung verändert\n",
    "                         \"(4) I have changed my behavior\") # 4. habe ich mein Verhalten verändert\n",
    "\n",
    "data2 <- as.data.frame(data2)\n",
    "\n",
    "\n",
    "fdaff_likert3 <- likert(items=data2[,4:7], grouping=data2[,1])\n",
    "pdf(\"fdaff_likert3.pdf\")\n",
    "plot(fdaff_likert3)\n",
    "\n",
    "# two way anova (see R Console)\n",
    "data <- data2 %>% \n",
    "  dplyr::rename(item1 = \"(1) I learned new things about myself\") %>%\n",
    "  mutate(item1=as.numeric(item1))\n",
    "twoway_anova_test(\"Self-Reflection Item 1\", data,\"item1\") \n",
    "\n",
    "data <- data2 %>% \n",
    "  dplyr::rename(item1 = \"(2) I learned new things about my behavior\") %>%\n",
    "  mutate(item1=as.numeric(item1))# \n",
    "twoway_anova_test(\"Self-Reflection Item 2\", data,\"item1\") \n",
    "\n",
    "data <- data2 %>% \n",
    "  dplyr::rename(item1 = \"(3) I have changed my smartphone usage\") %>% \n",
    "  mutate(item1=as.numeric(item1))# # \n",
    "twoway_anova_test(\"Self-Reflection Item 3\", data,\"item1\") \n",
    "\n",
    "data <- data2 %>% \n",
    "  dplyr::rename(item1 = \"(4) I have changed my behavior\") %>%\n",
    "   mutate(item1=as.numeric(item1))# # \n",
    "twoway_anova_test(\"Self-Reflection Item 4\", data,\"item1\") \n",
    "\n",
    "\n",
    "### Kolomogorv Smirnov Test\n",
    "data_x = data2 %>% filter(condition == \"baseline\") %>% .$`1. habe ich Neues über mich gelernt`\n",
    "data_y = data2 %>% filter(condition == \"transparency\") %>% .$`1. habe ich Neues über mich gelernt`\n",
    "ks.test(x = as.numeric(data_x), y = as.numeric(data_y), alternative = c(\"two.sided\", \"less\", \"greater\"),\n",
    "        exact = NULL)"
   ]
  },
  {
   "cell_type": "code",
   "execution_count": 10,
   "id": "0aaea59b-22c2-470b-b100-0edaad513cfa",
   "metadata": {},
   "outputs": [
    {
     "name": "stdout",
     "output_type": "stream",
     "text": [
      "[1] \"sample is not normally distributed, continuing with Sven's special anova test (ARTool)\"\n"
     ]
    },
    {
     "data": {
      "text/html": [
       "<table class=\"dataframe\">\n",
       "<caption>A anova.art: 3 × 7</caption>\n",
       "<thead>\n",
       "\t<tr><th></th><th scope=col>Term</th><th scope=col>Df</th><th scope=col>Df.res</th><th scope=col>Sum Sq</th><th scope=col>Sum Sq.res</th><th scope=col>F value</th><th scope=col>Pr(&gt;F)</th></tr>\n",
       "\t<tr><th></th><th scope=col>&lt;fct&gt;</th><th scope=col>&lt;dbl&gt;</th><th scope=col>&lt;dbl&gt;</th><th scope=col>&lt;dbl&gt;</th><th scope=col>&lt;dbl&gt;</th><th scope=col>&lt;dbl&gt;</th><th scope=col>&lt;dbl&gt;</th></tr>\n",
       "</thead>\n",
       "<tbody>\n",
       "\t<tr><th scope=row>1</th><td>transparency        </td><td>1</td><td>111</td><td>1180.1716</td><td>125084.1</td><td>1.0472878</td><td>0.30835771</td></tr>\n",
       "\t<tr><th scope=row>2</th><td>control             </td><td>1</td><td>111</td><td> 578.0755</td><td>125655.6</td><td>0.5106527</td><td>0.47635661</td></tr>\n",
       "\t<tr><th scope=row>3</th><td>transparency:control</td><td>1</td><td>111</td><td>3117.6686</td><td>122289.6</td><td>2.8298507</td><td>0.09533813</td></tr>\n",
       "</tbody>\n",
       "</table>\n"
      ],
      "text/latex": [
       "A anova.art: 3 × 7\n",
       "\\begin{tabular}{r|lllllll}\n",
       "  & Term & Df & Df.res & Sum Sq & Sum Sq.res & F value & Pr(>F)\\\\\n",
       "  & <fct> & <dbl> & <dbl> & <dbl> & <dbl> & <dbl> & <dbl>\\\\\n",
       "\\hline\n",
       "\t1 & transparency         & 1 & 111 & 1180.1716 & 125084.1 & 1.0472878 & 0.30835771\\\\\n",
       "\t2 & control              & 1 & 111 &  578.0755 & 125655.6 & 0.5106527 & 0.47635661\\\\\n",
       "\t3 & transparency:control & 1 & 111 & 3117.6686 & 122289.6 & 2.8298507 & 0.09533813\\\\\n",
       "\\end{tabular}\n"
      ],
      "text/markdown": [
       "\n",
       "A anova.art: 3 × 7\n",
       "\n",
       "| <!--/--> | Term &lt;fct&gt; | Df &lt;dbl&gt; | Df.res &lt;dbl&gt; | Sum Sq &lt;dbl&gt; | Sum Sq.res &lt;dbl&gt; | F value &lt;dbl&gt; | Pr(&gt;F) &lt;dbl&gt; |\n",
       "|---|---|---|---|---|---|---|---|\n",
       "| 1 | transparency         | 1 | 111 | 1180.1716 | 125084.1 | 1.0472878 | 0.30835771 |\n",
       "| 2 | control              | 1 | 111 |  578.0755 | 125655.6 | 0.5106527 | 0.47635661 |\n",
       "| 3 | transparency:control | 1 | 111 | 3117.6686 | 122289.6 | 2.8298507 | 0.09533813 |\n",
       "\n"
      ],
      "text/plain": [
       "  Term                 Df Df.res Sum Sq    Sum Sq.res F value   Pr(>F)    \n",
       "1 transparency         1  111    1180.1716 125084.1   1.0472878 0.30835771\n",
       "2 control              1  111     578.0755 125655.6   0.5106527 0.47635661\n",
       "3 transparency:control 1  111    3117.6686 122289.6   2.8298507 0.09533813"
      ]
     },
     "metadata": {},
     "output_type": "display_data"
    },
    {
     "name": "stdout",
     "output_type": "stream",
     "text": [
      "[1] \"sample is not normally distributed, continuing with Sven's special anova test (ARTool)\"\n"
     ]
    },
    {
     "data": {
      "text/html": [
       "<table class=\"dataframe\">\n",
       "<caption>A anova.art: 3 × 7</caption>\n",
       "<thead>\n",
       "\t<tr><th></th><th scope=col>Term</th><th scope=col>Df</th><th scope=col>Df.res</th><th scope=col>Sum Sq</th><th scope=col>Sum Sq.res</th><th scope=col>F value</th><th scope=col>Pr(&gt;F)</th></tr>\n",
       "\t<tr><th></th><th scope=col>&lt;fct&gt;</th><th scope=col>&lt;dbl&gt;</th><th scope=col>&lt;dbl&gt;</th><th scope=col>&lt;dbl&gt;</th><th scope=col>&lt;dbl&gt;</th><th scope=col>&lt;dbl&gt;</th><th scope=col>&lt;dbl&gt;</th></tr>\n",
       "</thead>\n",
       "<tbody>\n",
       "\t<tr><th scope=row>1</th><td>transparency        </td><td>1</td><td>111</td><td>2696.9390</td><td>123766.1</td><td>2.4187570</td><td>0.12273670</td></tr>\n",
       "\t<tr><th scope=row>2</th><td>control             </td><td>1</td><td>111</td><td> 461.8008</td><td>125729.6</td><td>0.4076996</td><td>0.52445465</td></tr>\n",
       "\t<tr><th scope=row>3</th><td>transparency:control</td><td>1</td><td>111</td><td>3228.0296</td><td>123239.3</td><td>2.9074434</td><td>0.09096871</td></tr>\n",
       "</tbody>\n",
       "</table>\n"
      ],
      "text/latex": [
       "A anova.art: 3 × 7\n",
       "\\begin{tabular}{r|lllllll}\n",
       "  & Term & Df & Df.res & Sum Sq & Sum Sq.res & F value & Pr(>F)\\\\\n",
       "  & <fct> & <dbl> & <dbl> & <dbl> & <dbl> & <dbl> & <dbl>\\\\\n",
       "\\hline\n",
       "\t1 & transparency         & 1 & 111 & 2696.9390 & 123766.1 & 2.4187570 & 0.12273670\\\\\n",
       "\t2 & control              & 1 & 111 &  461.8008 & 125729.6 & 0.4076996 & 0.52445465\\\\\n",
       "\t3 & transparency:control & 1 & 111 & 3228.0296 & 123239.3 & 2.9074434 & 0.09096871\\\\\n",
       "\\end{tabular}\n"
      ],
      "text/markdown": [
       "\n",
       "A anova.art: 3 × 7\n",
       "\n",
       "| <!--/--> | Term &lt;fct&gt; | Df &lt;dbl&gt; | Df.res &lt;dbl&gt; | Sum Sq &lt;dbl&gt; | Sum Sq.res &lt;dbl&gt; | F value &lt;dbl&gt; | Pr(&gt;F) &lt;dbl&gt; |\n",
       "|---|---|---|---|---|---|---|---|\n",
       "| 1 | transparency         | 1 | 111 | 2696.9390 | 123766.1 | 2.4187570 | 0.12273670 |\n",
       "| 2 | control              | 1 | 111 |  461.8008 | 125729.6 | 0.4076996 | 0.52445465 |\n",
       "| 3 | transparency:control | 1 | 111 | 3228.0296 | 123239.3 | 2.9074434 | 0.09096871 |\n",
       "\n"
      ],
      "text/plain": [
       "  Term                 Df Df.res Sum Sq    Sum Sq.res F value   Pr(>F)    \n",
       "1 transparency         1  111    2696.9390 123766.1   2.4187570 0.12273670\n",
       "2 control              1  111     461.8008 125729.6   0.4076996 0.52445465\n",
       "3 transparency:control 1  111    3228.0296 123239.3   2.9074434 0.09096871"
      ]
     },
     "metadata": {},
     "output_type": "display_data"
    },
    {
     "name": "stdout",
     "output_type": "stream",
     "text": [
      "[1] \"sample is not normally distributed, continuing with Sven's special anova test (ARTool)\"\n"
     ]
    },
    {
     "data": {
      "text/html": [
       "<table class=\"dataframe\">\n",
       "<caption>A anova.art: 3 × 7</caption>\n",
       "<thead>\n",
       "\t<tr><th></th><th scope=col>Term</th><th scope=col>Df</th><th scope=col>Df.res</th><th scope=col>Sum Sq</th><th scope=col>Sum Sq.res</th><th scope=col>F value</th><th scope=col>Pr(&gt;F)</th></tr>\n",
       "\t<tr><th></th><th scope=col>&lt;fct&gt;</th><th scope=col>&lt;dbl&gt;</th><th scope=col>&lt;dbl&gt;</th><th scope=col>&lt;dbl&gt;</th><th scope=col>&lt;dbl&gt;</th><th scope=col>&lt;dbl&gt;</th><th scope=col>&lt;dbl&gt;</th></tr>\n",
       "</thead>\n",
       "<tbody>\n",
       "\t<tr><th scope=row>1</th><td>transparency        </td><td>1</td><td>111</td><td>405.74906</td><td>120865.4</td><td>0.37263052</td><td>0.5428217</td></tr>\n",
       "\t<tr><th scope=row>2</th><td>control             </td><td>1</td><td>111</td><td>470.57434</td><td>121356.5</td><td>0.43041571</td><td>0.5131427</td></tr>\n",
       "\t<tr><th scope=row>3</th><td>transparency:control</td><td>1</td><td>111</td><td> 19.83191</td><td>121835.7</td><td>0.01806812</td><td>0.8933157</td></tr>\n",
       "</tbody>\n",
       "</table>\n"
      ],
      "text/latex": [
       "A anova.art: 3 × 7\n",
       "\\begin{tabular}{r|lllllll}\n",
       "  & Term & Df & Df.res & Sum Sq & Sum Sq.res & F value & Pr(>F)\\\\\n",
       "  & <fct> & <dbl> & <dbl> & <dbl> & <dbl> & <dbl> & <dbl>\\\\\n",
       "\\hline\n",
       "\t1 & transparency         & 1 & 111 & 405.74906 & 120865.4 & 0.37263052 & 0.5428217\\\\\n",
       "\t2 & control              & 1 & 111 & 470.57434 & 121356.5 & 0.43041571 & 0.5131427\\\\\n",
       "\t3 & transparency:control & 1 & 111 &  19.83191 & 121835.7 & 0.01806812 & 0.8933157\\\\\n",
       "\\end{tabular}\n"
      ],
      "text/markdown": [
       "\n",
       "A anova.art: 3 × 7\n",
       "\n",
       "| <!--/--> | Term &lt;fct&gt; | Df &lt;dbl&gt; | Df.res &lt;dbl&gt; | Sum Sq &lt;dbl&gt; | Sum Sq.res &lt;dbl&gt; | F value &lt;dbl&gt; | Pr(&gt;F) &lt;dbl&gt; |\n",
       "|---|---|---|---|---|---|---|---|\n",
       "| 1 | transparency         | 1 | 111 | 405.74906 | 120865.4 | 0.37263052 | 0.5428217 |\n",
       "| 2 | control              | 1 | 111 | 470.57434 | 121356.5 | 0.43041571 | 0.5131427 |\n",
       "| 3 | transparency:control | 1 | 111 |  19.83191 | 121835.7 | 0.01806812 | 0.8933157 |\n",
       "\n"
      ],
      "text/plain": [
       "  Term                 Df Df.res Sum Sq    Sum Sq.res F value    Pr(>F)   \n",
       "1 transparency         1  111    405.74906 120865.4   0.37263052 0.5428217\n",
       "2 control              1  111    470.57434 121356.5   0.43041571 0.5131427\n",
       "3 transparency:control 1  111     19.83191 121835.7   0.01806812 0.8933157"
      ]
     },
     "metadata": {},
     "output_type": "display_data"
    },
    {
     "name": "stdout",
     "output_type": "stream",
     "text": [
      "[1] \"sample is not normally distributed, continuing with Sven's special anova test (ARTool)\"\n"
     ]
    },
    {
     "data": {
      "text/html": [
       "<table class=\"dataframe\">\n",
       "<caption>A anova.art: 3 × 7</caption>\n",
       "<thead>\n",
       "\t<tr><th></th><th scope=col>Term</th><th scope=col>Df</th><th scope=col>Df.res</th><th scope=col>Sum Sq</th><th scope=col>Sum Sq.res</th><th scope=col>F value</th><th scope=col>Pr(&gt;F)</th></tr>\n",
       "\t<tr><th></th><th scope=col>&lt;fct&gt;</th><th scope=col>&lt;dbl&gt;</th><th scope=col>&lt;dbl&gt;</th><th scope=col>&lt;dbl&gt;</th><th scope=col>&lt;dbl&gt;</th><th scope=col>&lt;dbl&gt;</th><th scope=col>&lt;dbl&gt;</th></tr>\n",
       "</thead>\n",
       "<tbody>\n",
       "\t<tr><th scope=row>1</th><td>transparency        </td><td>1</td><td>111</td><td> 502.2072</td><td>116022.1</td><td>0.4804687</td><td>0.4896579</td></tr>\n",
       "\t<tr><th scope=row>2</th><td>control             </td><td>1</td><td>111</td><td>1003.6112</td><td>110937.7</td><td>1.0041751</td><td>0.3184819</td></tr>\n",
       "\t<tr><th scope=row>3</th><td>transparency:control</td><td>1</td><td>111</td><td>  13.3023</td><td>118491.3</td><td>0.0124613</td><td>0.9113183</td></tr>\n",
       "</tbody>\n",
       "</table>\n"
      ],
      "text/latex": [
       "A anova.art: 3 × 7\n",
       "\\begin{tabular}{r|lllllll}\n",
       "  & Term & Df & Df.res & Sum Sq & Sum Sq.res & F value & Pr(>F)\\\\\n",
       "  & <fct> & <dbl> & <dbl> & <dbl> & <dbl> & <dbl> & <dbl>\\\\\n",
       "\\hline\n",
       "\t1 & transparency         & 1 & 111 &  502.2072 & 116022.1 & 0.4804687 & 0.4896579\\\\\n",
       "\t2 & control              & 1 & 111 & 1003.6112 & 110937.7 & 1.0041751 & 0.3184819\\\\\n",
       "\t3 & transparency:control & 1 & 111 &   13.3023 & 118491.3 & 0.0124613 & 0.9113183\\\\\n",
       "\\end{tabular}\n"
      ],
      "text/markdown": [
       "\n",
       "A anova.art: 3 × 7\n",
       "\n",
       "| <!--/--> | Term &lt;fct&gt; | Df &lt;dbl&gt; | Df.res &lt;dbl&gt; | Sum Sq &lt;dbl&gt; | Sum Sq.res &lt;dbl&gt; | F value &lt;dbl&gt; | Pr(&gt;F) &lt;dbl&gt; |\n",
       "|---|---|---|---|---|---|---|---|\n",
       "| 1 | transparency         | 1 | 111 |  502.2072 | 116022.1 | 0.4804687 | 0.4896579 |\n",
       "| 2 | control              | 1 | 111 | 1003.6112 | 110937.7 | 1.0041751 | 0.3184819 |\n",
       "| 3 | transparency:control | 1 | 111 |   13.3023 | 118491.3 | 0.0124613 | 0.9113183 |\n",
       "\n"
      ],
      "text/plain": [
       "  Term                 Df Df.res Sum Sq    Sum Sq.res F value   Pr(>F)   \n",
       "1 transparency         1  111     502.2072 116022.1   0.4804687 0.4896579\n",
       "2 control              1  111    1003.6112 110937.7   1.0041751 0.3184819\n",
       "3 transparency:control 1  111      13.3023 118491.3   0.0124613 0.9113183"
      ]
     },
     "metadata": {},
     "output_type": "display_data"
    },
    {
     "data": {
      "image/png": "[encoded data removed]",
      "text/plain": [
       "plot without title"
      ]
     },
     "metadata": {
      "image/png": {
       "height": 420,
       "width": 420
      }
     },
     "output_type": "display_data"
    }
   ],
   "source": [
    "# 6.3 Figure 6 on Self-Reflection and Behavior Change\n",
    "\n",
    "library(likert)\n",
    "library(dplyr)\n",
    "#data_postq <- readRDS(\"data_postq.rds\")\n",
    "source('general_functions.R')\n",
    "\n",
    "data1 <- data_postq %>% \n",
    "  select(condition,transparency,control,starts_with(\"LB01_\")) %>%\n",
    "  filter(!is.na(LB01_04)) %>%\n",
    "  mutate_all(as.factor)\n",
    "\n",
    "\n",
    "names(data1) <- c(\"condition\", \"transparency\",\"control\",\n",
    "                         \"(1) I learned new things about myself\", \n",
    "                         \"(2) I learned new things about my behavior\",\n",
    "                         \"(3) I have changed my smartphone usage\",\n",
    "                         \"(4) I have changed my behavior\")\n",
    "\n",
    "data1 <- as.data.frame(data1)\n",
    "\n",
    "\n",
    "fdaff_likert3 <- likert(items=data1[,4:7], grouping=data1[,1])\n",
    "plot(fdaff_likert3)\n",
    "\n",
    "# two way anova (see R Console)\n",
    "data <- data1 %>% dplyr::rename(item1 = \"(1) I learned new things about myself\")\n",
    "twoway_anova_test(\"Wie bewusst war den Leuten, was die PhoneStudy App tut? Item 1\", data,\"item1\") \n",
    "\n",
    "data <- data1 %>% rename(item1 = \"(2) I learned new things about my behavior\")\n",
    "twoway_anova_test(\"Wie bewusst war den Leuten, was die PhoneStudy App tut? Item 2\", data,\"item1\") \n",
    "\n",
    "data <- data1 %>% rename(item1 = \"(3) I have changed my smartphone usage\")\n",
    "twoway_anova_test(\"Wie bewusst war den Leuten, was die PhoneStudy App tut? Item 3\", data,\"item1\") \n",
    "\n",
    "data <- data1 %>% rename(item1 = \"(4) I have changed my behavior\")\n",
    "twoway_anova_test(\"Wie bewusst war den Leuten, was die PhoneStudy App tut? Item 4\", data,\"item1\") "
   ]
  },
  {
   "cell_type": "code",
   "execution_count": 15,
   "id": "323fc895",
   "metadata": {},
   "outputs": [
    {
     "name": "stdout",
     "output_type": "stream",
     "text": [
      "[1] \"sample is normally distributed, continuing with standard anova\"\n"
     ]
    },
    {
     "data": {
      "text/plain": [
       "                      Df Sum Sq Mean Sq F value  Pr(>F)   \n",
       "transparency           1    119   119.1   2.598 0.10966   \n",
       "control                1    429   429.1   9.358 0.00275 **\n",
       "transparency:control   1    123   122.8   2.679 0.10439   \n",
       "Residuals            117   5365    45.9                   \n",
       "---\n",
       "Signif. codes:  0 '***' 0.001 '**' 0.01 '*' 0.05 '.' 0.1 ' ' 1"
      ]
     },
     "metadata": {},
     "output_type": "display_data"
    },
    {
     "name": "stdout",
     "output_type": "stream",
     "text": [
      "[1] \"sample is not normally distributed, continuing with Sven's special anova test (ARTool)\"\n"
     ]
    },
    {
     "data": {
      "text/html": [
       "<table class=\"dataframe\">\n",
       "<caption>A anova.art: 3 × 7</caption>\n",
       "<thead>\n",
       "\t<tr><th></th><th scope=col>Term</th><th scope=col>Df</th><th scope=col>Df.res</th><th scope=col>Sum Sq</th><th scope=col>Sum Sq.res</th><th scope=col>F value</th><th scope=col>Pr(&gt;F)</th></tr>\n",
       "\t<tr><th></th><th scope=col>&lt;fct&gt;</th><th scope=col>&lt;dbl&gt;</th><th scope=col>&lt;dbl&gt;</th><th scope=col>&lt;dbl&gt;</th><th scope=col>&lt;dbl&gt;</th><th scope=col>&lt;dbl&gt;</th><th scope=col>&lt;dbl&gt;</th></tr>\n",
       "</thead>\n",
       "<tbody>\n",
       "\t<tr><th scope=row>1</th><td>transparency        </td><td>1</td><td>117</td><td>   5.240303</td><td>147435.2</td><td>0.004158543</td><td>0.94869269</td></tr>\n",
       "\t<tr><th scope=row>2</th><td>control             </td><td>1</td><td>117</td><td>4523.951820</td><td>142709.7</td><td>3.708944625</td><td>0.05654804</td></tr>\n",
       "\t<tr><th scope=row>3</th><td>transparency:control</td><td>1</td><td>117</td><td>1422.884846</td><td>146006.7</td><td>1.140204548</td><td>0.28780738</td></tr>\n",
       "</tbody>\n",
       "</table>\n"
      ],
      "text/latex": [
       "A anova.art: 3 × 7\n",
       "\\begin{tabular}{r|lllllll}\n",
       "  & Term & Df & Df.res & Sum Sq & Sum Sq.res & F value & Pr(>F)\\\\\n",
       "  & <fct> & <dbl> & <dbl> & <dbl> & <dbl> & <dbl> & <dbl>\\\\\n",
       "\\hline\n",
       "\t1 & transparency         & 1 & 117 &    5.240303 & 147435.2 & 0.004158543 & 0.94869269\\\\\n",
       "\t2 & control              & 1 & 117 & 4523.951820 & 142709.7 & 3.708944625 & 0.05654804\\\\\n",
       "\t3 & transparency:control & 1 & 117 & 1422.884846 & 146006.7 & 1.140204548 & 0.28780738\\\\\n",
       "\\end{tabular}\n"
      ],
      "text/markdown": [
       "\n",
       "A anova.art: 3 × 7\n",
       "\n",
       "| <!--/--> | Term &lt;fct&gt; | Df &lt;dbl&gt; | Df.res &lt;dbl&gt; | Sum Sq &lt;dbl&gt; | Sum Sq.res &lt;dbl&gt; | F value &lt;dbl&gt; | Pr(&gt;F) &lt;dbl&gt; |\n",
       "|---|---|---|---|---|---|---|---|\n",
       "| 1 | transparency         | 1 | 117 |    5.240303 | 147435.2 | 0.004158543 | 0.94869269 |\n",
       "| 2 | control              | 1 | 117 | 4523.951820 | 142709.7 | 3.708944625 | 0.05654804 |\n",
       "| 3 | transparency:control | 1 | 117 | 1422.884846 | 146006.7 | 1.140204548 | 0.28780738 |\n",
       "\n"
      ],
      "text/plain": [
       "  Term                 Df Df.res Sum Sq      Sum Sq.res F value     Pr(>F)    \n",
       "1 transparency         1  117       5.240303 147435.2   0.004158543 0.94869269\n",
       "2 control              1  117    4523.951820 142709.7   3.708944625 0.05654804\n",
       "3 transparency:control 1  117    1422.884846 146006.7   1.140204548 0.28780738"
      ]
     },
     "metadata": {},
     "output_type": "display_data"
    },
    {
     "name": "stdout",
     "output_type": "stream",
     "text": [
      "[1] \"sample is normally distributed, continuing with standard anova\"\n"
     ]
    },
    {
     "data": {
      "text/plain": [
       "                      Df Sum Sq Mean Sq F value Pr(>F)  \n",
       "transparency           1    5.4    5.43   0.374  0.542  \n",
       "control                1   28.0   27.97   1.928  0.168  \n",
       "transparency:control   1   41.3   41.35   2.850  0.094 .\n",
       "Residuals            117 1697.5   14.51                 \n",
       "---\n",
       "Signif. codes:  0 '***' 0.001 '**' 0.01 '*' 0.05 '.' 0.1 ' ' 1"
      ]
     },
     "metadata": {},
     "output_type": "display_data"
    },
    {
     "name": "stdout",
     "output_type": "stream",
     "text": [
      "[1] \"sample is not normally distributed, continuing with Sven's special anova test (ARTool)\"\n"
     ]
    },
    {
     "data": {
      "text/html": [
       "<table class=\"dataframe\">\n",
       "<caption>A anova.art: 3 × 7</caption>\n",
       "<thead>\n",
       "\t<tr><th></th><th scope=col>Term</th><th scope=col>Df</th><th scope=col>Df.res</th><th scope=col>Sum Sq</th><th scope=col>Sum Sq.res</th><th scope=col>F value</th><th scope=col>Pr(&gt;F)</th></tr>\n",
       "\t<tr><th></th><th scope=col>&lt;fct&gt;</th><th scope=col>&lt;dbl&gt;</th><th scope=col>&lt;dbl&gt;</th><th scope=col>&lt;dbl&gt;</th><th scope=col>&lt;dbl&gt;</th><th scope=col>&lt;dbl&gt;</th><th scope=col>&lt;dbl&gt;</th></tr>\n",
       "</thead>\n",
       "<tbody>\n",
       "\t<tr><th scope=row>1</th><td>transparency        </td><td>1</td><td>117</td><td> 1027.731</td><td>145923.7</td><td>0.8240237</td><td>0.365872259</td></tr>\n",
       "\t<tr><th scope=row>2</th><td>control             </td><td>1</td><td>117</td><td> 4156.837</td><td>142604.5</td><td>3.4104818</td><td>0.067310467</td></tr>\n",
       "\t<tr><th scope=row>3</th><td>transparency:control</td><td>1</td><td>117</td><td>10922.556</td><td>135360.7</td><td>9.4409880</td><td>0.002639999</td></tr>\n",
       "</tbody>\n",
       "</table>\n"
      ],
      "text/latex": [
       "A anova.art: 3 × 7\n",
       "\\begin{tabular}{r|lllllll}\n",
       "  & Term & Df & Df.res & Sum Sq & Sum Sq.res & F value & Pr(>F)\\\\\n",
       "  & <fct> & <dbl> & <dbl> & <dbl> & <dbl> & <dbl> & <dbl>\\\\\n",
       "\\hline\n",
       "\t1 & transparency         & 1 & 117 &  1027.731 & 145923.7 & 0.8240237 & 0.365872259\\\\\n",
       "\t2 & control              & 1 & 117 &  4156.837 & 142604.5 & 3.4104818 & 0.067310467\\\\\n",
       "\t3 & transparency:control & 1 & 117 & 10922.556 & 135360.7 & 9.4409880 & 0.002639999\\\\\n",
       "\\end{tabular}\n"
      ],
      "text/markdown": [
       "\n",
       "A anova.art: 3 × 7\n",
       "\n",
       "| <!--/--> | Term &lt;fct&gt; | Df &lt;dbl&gt; | Df.res &lt;dbl&gt; | Sum Sq &lt;dbl&gt; | Sum Sq.res &lt;dbl&gt; | F value &lt;dbl&gt; | Pr(&gt;F) &lt;dbl&gt; |\n",
       "|---|---|---|---|---|---|---|---|\n",
       "| 1 | transparency         | 1 | 117 |  1027.731 | 145923.7 | 0.8240237 | 0.365872259 |\n",
       "| 2 | control              | 1 | 117 |  4156.837 | 142604.5 | 3.4104818 | 0.067310467 |\n",
       "| 3 | transparency:control | 1 | 117 | 10922.556 | 135360.7 | 9.4409880 | 0.002639999 |\n",
       "\n"
      ],
      "text/plain": [
       "  Term                 Df Df.res Sum Sq    Sum Sq.res F value   Pr(>F)     \n",
       "1 transparency         1  117     1027.731 145923.7   0.8240237 0.365872259\n",
       "2 control              1  117     4156.837 142604.5   3.4104818 0.067310467\n",
       "3 transparency:control 1  117    10922.556 135360.7   9.4409880 0.002639999"
      ]
     },
     "metadata": {},
     "output_type": "display_data"
    },
    {
     "name": "stdout",
     "output_type": "stream",
     "text": [
      "[1] \"sample is not normally distributed, continuing with Sven's special anova test (ARTool)\"\n"
     ]
    },
    {
     "data": {
      "text/html": [
       "<table class=\"dataframe\">\n",
       "<caption>A anova.art: 3 × 7</caption>\n",
       "<thead>\n",
       "\t<tr><th></th><th scope=col>Term</th><th scope=col>Df</th><th scope=col>Df.res</th><th scope=col>Sum Sq</th><th scope=col>Sum Sq.res</th><th scope=col>F value</th><th scope=col>Pr(&gt;F)</th></tr>\n",
       "\t<tr><th></th><th scope=col>&lt;fct&gt;</th><th scope=col>&lt;dbl&gt;</th><th scope=col>&lt;dbl&gt;</th><th scope=col>&lt;dbl&gt;</th><th scope=col>&lt;dbl&gt;</th><th scope=col>&lt;dbl&gt;</th><th scope=col>&lt;dbl&gt;</th></tr>\n",
       "</thead>\n",
       "<tbody>\n",
       "\t<tr><th scope=row>1</th><td>transparency        </td><td>1</td><td>117</td><td>1386.315</td><td>145626.4</td><td>1.113802</td><td>0.29343148</td></tr>\n",
       "\t<tr><th scope=row>2</th><td>control             </td><td>1</td><td>117</td><td>3899.547</td><td>143488.6</td><td>3.179673</td><td>0.07715262</td></tr>\n",
       "\t<tr><th scope=row>3</th><td>transparency:control</td><td>1</td><td>117</td><td>2341.939</td><td>144962.7</td><td>1.890188</td><td>0.17180795</td></tr>\n",
       "</tbody>\n",
       "</table>\n"
      ],
      "text/latex": [
       "A anova.art: 3 × 7\n",
       "\\begin{tabular}{r|lllllll}\n",
       "  & Term & Df & Df.res & Sum Sq & Sum Sq.res & F value & Pr(>F)\\\\\n",
       "  & <fct> & <dbl> & <dbl> & <dbl> & <dbl> & <dbl> & <dbl>\\\\\n",
       "\\hline\n",
       "\t1 & transparency         & 1 & 117 & 1386.315 & 145626.4 & 1.113802 & 0.29343148\\\\\n",
       "\t2 & control              & 1 & 117 & 3899.547 & 143488.6 & 3.179673 & 0.07715262\\\\\n",
       "\t3 & transparency:control & 1 & 117 & 2341.939 & 144962.7 & 1.890188 & 0.17180795\\\\\n",
       "\\end{tabular}\n"
      ],
      "text/markdown": [
       "\n",
       "A anova.art: 3 × 7\n",
       "\n",
       "| <!--/--> | Term &lt;fct&gt; | Df &lt;dbl&gt; | Df.res &lt;dbl&gt; | Sum Sq &lt;dbl&gt; | Sum Sq.res &lt;dbl&gt; | F value &lt;dbl&gt; | Pr(&gt;F) &lt;dbl&gt; |\n",
       "|---|---|---|---|---|---|---|---|\n",
       "| 1 | transparency         | 1 | 117 | 1386.315 | 145626.4 | 1.113802 | 0.29343148 |\n",
       "| 2 | control              | 1 | 117 | 3899.547 | 143488.6 | 3.179673 | 0.07715262 |\n",
       "| 3 | transparency:control | 1 | 117 | 2341.939 | 144962.7 | 1.890188 | 0.17180795 |\n",
       "\n"
      ],
      "text/plain": [
       "  Term                 Df Df.res Sum Sq   Sum Sq.res F value  Pr(>F)    \n",
       "1 transparency         1  117    1386.315 145626.4   1.113802 0.29343148\n",
       "2 control              1  117    3899.547 143488.6   3.179673 0.07715262\n",
       "3 transparency:control 1  117    2341.939 144962.7   1.890188 0.17180795"
      ]
     },
     "metadata": {},
     "output_type": "display_data"
    },
    {
     "name": "stderr",
     "output_type": "stream",
     "text": [
      "`summarise()` regrouping output by 'itemgroup' (override with `.groups` argument)\n",
      "\n"
     ]
    },
    {
     "data": {
      "image/png": "[encoded data removed]",
      "text/plain": [
       "plot without title"
      ]
     },
     "metadata": {
      "image/png": {
       "height": 420,
       "width": 420
      }
     },
     "output_type": "display_data"
    }
   ],
   "source": [
    "# 6.4 Privacy Concern and User Experience\n",
    "\n",
    "### Perceived Control\n",
    "# two way anova\n",
    "df_perceivedcontrol <- data_postq %>% select(condition,transparency,control,PP_perceived_control)\n",
    "twoway_anova_test(\"Privacy Perception: Perceived Control\", df_perceivedcontrol,\"PP_perceived_control\")\n",
    "\n",
    "### App Permission Concern\n",
    "# two way anova (see R Console)\n",
    "df <- data_postq %>% select(condition,transparency,control,PP_app_permission_concern)\n",
    "twoway_anova_test(\"Privacy Perception: App Permission Concern\", df,\"PP_app_permission_concern\")\n",
    "\n",
    "### Perceived Surveillance\n",
    "# two way anova (see R Console)\n",
    "df <- data_postq %>% select(condition,transparency,control,PP_perceived_surveillance)\n",
    "twoway_anova_test(\"Privacy Perception: Perceived Surveillance\", df,\"PP_perceived_surveillance\")\n",
    "\n",
    "### Perceived Intrusion\n",
    "# two way anova (see R Console)\n",
    "df <- data_postq %>% select(condition,transparency,control,PP_perceived_intrusion)\n",
    "twoway_anova_test(\"Privacy Perception: Perceived Intrusion\", df,\"PP_perceived_intrusion\")\n",
    "\n",
    "### Permission Acceptance\n",
    "# two way anova (see R Console)\n",
    "df <- data_postq %>% select(condition,transparency,control,PP_permission_acceptance)\n",
    "twoway_anova_test(\"Privacy Perception: Permission Acceptance\", df,\"PP_permission_acceptance\")\n",
    "\n",
    "\n",
    "### Figure 7: Privacy Perception Violin Plot\n",
    "means_pp <- data_pp %>% group_by(itemgroup,condition) %>% dplyr::summarize(score=mean(score))\n",
    "\n",
    "ggplot(data_pp, aes(x = condition, y = score, fill = condition)) +\n",
    "    geom_violin(color = NA) + \n",
    "    stat_summary(fun.data=mean_se,  geom=\"pointrange\", color=\"black\") +\n",
    "    facet_wrap(~itemgroup, ncol=5) + \n",
    "ylab(\"Mean Score\")+\n",
    "  scale_y_continuous(limits = c(0, 35), breaks=seq(5,35,5) ,expand = c(0,-1)) +\n",
    "  scale_fill_manual(values = c('#f3b94d','#00748d','#F241B8','#76F266')) +\n",
    "  theme_minimal() +\n",
    "  theme(\n",
    "      legend.position = \"bottom\", #else bottom\n",
    "      panel.background = element_rect( size=0.5, color=\"transparent\", fill=\"gray98\" ),\n",
    "      axis.title.x=element_blank(),\n",
    "      axis.text.x=element_blank(),\n",
    "      panel.spacing = unit(0.5, \"cm\"),\n",
    "      strip.placement = \"outside\",\n",
    "  )"
   ]
  }
 ],
 "metadata": {
  "kernelspec": {
   "display_name": "R",
   "language": "R",
   "name": "ir"
  },
  "language_info": {
   "codemirror_mode": "r",
   "file_extension": ".r",
   "mimetype": "text/x-r-source",
   "name": "R",
   "pygments_lexer": "r",
   "version": "3.6.1"
  },
  "varInspector": {
   "cols": {
    "lenName": 16,
    "lenType": 16,
    "lenVar": 40
   },
   "kernels_config": {
    "python": {
     "delete_cmd_postfix": "",
     "delete_cmd_prefix": "del ",
     "library": "var_list.py",
     "varRefreshCmd": "print(var_dic_list())"
    },
    "r": {
     "delete_cmd_postfix": ") ",
     "delete_cmd_prefix": "rm(",
     "library": "var_list.r",
     "varRefreshCmd": "cat(var_dic_list()) "
    }
   },
   "types_to_exclude": [
    "module",
    "function",
    "builtin_function_or_method",
    "instance",
    "_Feature"
   ],
   "window_display": false
  }
 },
 "nbformat": 4,
 "nbformat_minor": 5
}
