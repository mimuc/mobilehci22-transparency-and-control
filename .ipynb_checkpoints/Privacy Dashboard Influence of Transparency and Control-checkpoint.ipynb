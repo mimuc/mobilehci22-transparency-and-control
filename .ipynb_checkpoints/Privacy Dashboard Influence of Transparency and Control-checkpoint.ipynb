{
 "cells": [
  {
   "cell_type": "code",
   "execution_count": 2,
   "id": "91605d10",
   "metadata": {},
   "outputs": [
    {
     "name": "stderr",
     "output_type": "stream",
     "text": [
      "Warning message:\n",
      "\"package 'dplyr' was built under R version 3.6.3\"\n",
      "\n",
      "Attaching package: 'dplyr'\n",
      "\n",
      "\n",
      "The following objects are masked from 'package:stats':\n",
      "\n",
      "    filter, lag\n",
      "\n",
      "\n",
      "The following objects are masked from 'package:base':\n",
      "\n",
      "    intersect, setdiff, setequal, union\n",
      "\n",
      "\n",
      "Warning message:\n",
      "\"package 'tidyr' was built under R version 3.6.3\"\n",
      "Warning message:\n",
      "\"package 'ggplot2' was built under R version 3.6.3\"\n",
      "Warning message:\n",
      "\"package 'lubridate' was built under R version 3.6.3\"\n",
      "\n",
      "Attaching package: 'lubridate'\n",
      "\n",
      "\n",
      "The following objects are masked from 'package:base':\n",
      "\n",
      "    date, intersect, setdiff, union\n",
      "\n",
      "\n",
      "Warning message:\n",
      "\"package 'chisq.posthoc.test' was built under R version 3.6.3\"\n",
      "Loading required package: carData\n",
      "\n",
      "Warning message:\n",
      "\"package 'carData' was built under R version 3.6.3\"\n",
      "\n",
      "Attaching package: 'car'\n",
      "\n",
      "\n",
      "The following object is masked from 'package:dplyr':\n",
      "\n",
      "    recode\n",
      "\n",
      "\n"
     ]
    }
   ],
   "source": [
    "### import libraries and functions ###\n",
    "library(dplyr)\n",
    "library(tidyr)\n",
    "library(ggplot2)\n",
    "library(lubridate)\n",
    "library(chisq.posthoc.test)\n",
    "\n",
    "source('general_functions.R')"
   ]
  },
  {
   "cell_type": "code",
   "execution_count": 21,
   "id": "c0094e73",
   "metadata": {},
   "outputs": [],
   "source": [
    "### load questionnaire data ###\n",
    "# onboarding questionnaires\n",
    "data_onboarding_groupassignment <- readRDS(\"data/questionnaires/data_onboarding_groupassignment.rds\")\n",
    "data_onboarding_baseline <- readRDS(\"data/questionnaires/data_onboarding_baseline.rds\")\n",
    "data_onboarding_transparency <- readRDS(\"data/questionnaires/data_onboarding_transparency.rds\")\n",
    "data_onboarding_control <- readRDS(\"data/questionnaires/data_onboarding_control.rds\")\n",
    "data_onboarding_both <- readRDS(\"data/questionnaires/data_onboarding_both.rds\")\n",
    "\n",
    "# pre and post questionnaires\n",
    "data_startq <- readRDS(\"data/questionnaires/data_preq.rds\")\n",
    "data_postq <- readRDS(\"data/questionnaires/data_postq.rds\")"
   ]
  },
  {
   "cell_type": "code",
   "execution_count": 3,
   "id": "17bcfa0f",
   "metadata": {},
   "outputs": [],
   "source": [
    "### load app data ###\n",
    "users <- readRDS(\"data/app/users.rds\")"
   ]
  },
  {
   "cell_type": "code",
   "execution_count": 23,
   "id": "63d275cd",
   "metadata": {},
   "outputs": [],
   "source": [
    "### Participation Rates. Amount of participants that ... ###\n",
    "\n",
    "# For each stage, the participation rates depending on the four conditions are calculated\n",
    "\n",
    "## ... showed interest in the study\n",
    "n_assigned_ba <- nrow(data_onboarding_groupassignment %>% filter(RD01 == 1))\n",
    "n_assigned_tr <- nrow(data_onboarding_groupassignment %>% filter(RD01 == 2))\n",
    "n_assigned_co <- nrow(data_onboarding_groupassignment %>% filter(RD01 == 3))\n",
    "n_assigned_bo <- nrow(data_onboarding_groupassignment %>% filter(RD01 == 4))\n",
    "\n",
    "# ... completed the onboarding questionnaire\n",
    "n_onboarding_finished_ba <- nrow(data_onboarding_baseline %>% filter(FINISHED == 1))\n",
    "n_onboarding_finished_tr <- nrow(data_onboarding_transparency %>% filter(FINISHED == 1))\n",
    "n_onboarding_finished_co <- nrow(data_onboarding_control %>% filter(FINISHED == 1))\n",
    "n_onboarding_finished_bo <- nrow(data_onboarding_both %>% filter(FINISHED == 1))\n",
    "\n",
    "# ... installed the app\n",
    "n_appinst_ba = nrow(users %>% filter(condition==\"baseline\"))\n",
    "n_appinst_tr = nrow(users %>% filter(condition==\"transparency\"))\n",
    "n_appinst_co = nrow(users %>% filter(condition==\"control\"))\n",
    "n_appinst_bo = nrow(users %>% filter(condition==\"both\"))\n",
    "\n",
    "# ... completed the pre questionnaire\n",
    "n_started_ba <- nrow(data_startq %>% filter(condition == \"baseline\"))\n",
    "n_started_tr <- nrow(data_startq %>% filter(condition == \"transparency\"))\n",
    "n_started_co <- nrow(data_startq %>% filter(condition == \"control\"))\n",
    "n_started_bo <- nrow(data_startq %>% filter(condition == \"both\"))\n",
    "\n",
    "# ...  kept app installed for at least one day\n",
    "n_day1_ba = nrow(users %>% filter(condition==\"baseline\" & days_in_study >= ddays(1)))\n",
    "n_day1_tr = nrow(users %>% filter(condition==\"transparency\" & days_in_study >= ddays(1)))\n",
    "n_day1_co = nrow(users %>% filter(condition==\"control\" & days_in_study >= ddays(1)))\n",
    "n_day1_bo = nrow(users %>% filter(condition==\"both\" & days_in_study >= ddays(1)))\n",
    "\n",
    "# ... Kept app until study end\n",
    "n_day6_ba = nrow(users %>% filter(condition==\"baseline\" & days_in_study >= ddays(6)))\n",
    "n_day6_tr = nrow(users %>% filter(condition==\"transparency\" & days_in_study >= ddays(6)))\n",
    "n_day6_co = nrow(users %>% filter(condition==\"control\" & days_in_study >= ddays(6)))\n",
    "n_day6_bo = nrow(users %>% filter(condition==\"both\" & days_in_study >= ddays(6)))\n",
    "\n",
    "# ... completed the post questionnaire\n",
    "n_finished_ba <- nrow(data_postq %>% filter(condition == \"baseline\")) \n",
    "n_finished_tr <- nrow(data_postq %>% filter(condition == \"transparency\"))\n",
    "n_finished_co <- nrow(data_postq %>% filter(condition == \"control\"))\n",
    "n_finished_bo <- nrow(data_postq %>% filter(condition == \"both\"))"
   ]
  },
  {
   "cell_type": "code",
   "execution_count": 24,
   "id": "5af0daa6",
   "metadata": {},
   "outputs": [
    {
     "data": {
      "text/html": [
       "<table class=\"dataframe\">\n",
       "<caption>A data.frame: 5 × 10</caption>\n",
       "<thead>\n",
       "\t<tr><th scope=col>baseline_n</th><th scope=col>baseline_perc</th><th scope=col>transparency_n</th><th scope=col>transparency_perc</th><th scope=col>control_n</th><th scope=col>control_perc</th><th scope=col>both_n</th><th scope=col>both_perc</th><th scope=col>total_n</th><th scope=col>total_perc</th></tr>\n",
       "\t<tr><th scope=col>&lt;int&gt;</th><th scope=col>&lt;dbl&gt;</th><th scope=col>&lt;int&gt;</th><th scope=col>&lt;dbl&gt;</th><th scope=col>&lt;int&gt;</th><th scope=col>&lt;dbl&gt;</th><th scope=col>&lt;int&gt;</th><th scope=col>&lt;dbl&gt;</th><th scope=col>&lt;int&gt;</th><th scope=col>&lt;dbl&gt;</th></tr>\n",
       "</thead>\n",
       "<tbody>\n",
       "\t<tr><td>322</td><td>1.0000000</td><td>321</td><td>1.0000000</td><td>322</td><td>1.0000000</td><td>321</td><td>1.0000000</td><td>1286</td><td>1.0000000</td></tr>\n",
       "\t<tr><td> 56</td><td>0.1739130</td><td> 57</td><td>0.1775701</td><td> 51</td><td>0.1583851</td><td> 63</td><td>0.1962617</td><td> 227</td><td>0.1765163</td></tr>\n",
       "\t<tr><td> 38</td><td>0.6785714</td><td> 27</td><td>0.4736842</td><td> 43</td><td>0.8431373</td><td> 42</td><td>0.6666667</td><td> 150</td><td>0.6607930</td></tr>\n",
       "\t<tr><td> 29</td><td>0.7631579</td><td> 23</td><td>0.8518519</td><td> 38</td><td>0.8837209</td><td> 38</td><td>0.9047619</td><td> 128</td><td>0.8533333</td></tr>\n",
       "\t<tr><td> 29</td><td>1.0000000</td><td> 23</td><td>1.0000000</td><td> 37</td><td>0.9736842</td><td> 37</td><td>0.9736842</td><td> 126</td><td>0.9843750</td></tr>\n",
       "</tbody>\n",
       "</table>\n"
      ],
      "text/latex": [
       "A data.frame: 5 × 10\n",
       "\\begin{tabular}{llllllllll}\n",
       " baseline\\_n & baseline\\_perc & transparency\\_n & transparency\\_perc & control\\_n & control\\_perc & both\\_n & both\\_perc & total\\_n & total\\_perc\\\\\n",
       " <int> & <dbl> & <int> & <dbl> & <int> & <dbl> & <int> & <dbl> & <int> & <dbl>\\\\\n",
       "\\hline\n",
       "\t 322 & 1.0000000 & 321 & 1.0000000 & 322 & 1.0000000 & 321 & 1.0000000 & 1286 & 1.0000000\\\\\n",
       "\t  56 & 0.1739130 &  57 & 0.1775701 &  51 & 0.1583851 &  63 & 0.1962617 &  227 & 0.1765163\\\\\n",
       "\t  38 & 0.6785714 &  27 & 0.4736842 &  43 & 0.8431373 &  42 & 0.6666667 &  150 & 0.6607930\\\\\n",
       "\t  29 & 0.7631579 &  23 & 0.8518519 &  38 & 0.8837209 &  38 & 0.9047619 &  128 & 0.8533333\\\\\n",
       "\t  29 & 1.0000000 &  23 & 1.0000000 &  37 & 0.9736842 &  37 & 0.9736842 &  126 & 0.9843750\\\\\n",
       "\\end{tabular}\n"
      ],
      "text/markdown": [
       "\n",
       "A data.frame: 5 × 10\n",
       "\n",
       "| baseline_n &lt;int&gt; | baseline_perc &lt;dbl&gt; | transparency_n &lt;int&gt; | transparency_perc &lt;dbl&gt; | control_n &lt;int&gt; | control_perc &lt;dbl&gt; | both_n &lt;int&gt; | both_perc &lt;dbl&gt; | total_n &lt;int&gt; | total_perc &lt;dbl&gt; |\n",
       "|---|---|---|---|---|---|---|---|---|---|\n",
       "| 322 | 1.0000000 | 321 | 1.0000000 | 322 | 1.0000000 | 321 | 1.0000000 | 1286 | 1.0000000 |\n",
       "|  56 | 0.1739130 |  57 | 0.1775701 |  51 | 0.1583851 |  63 | 0.1962617 |  227 | 0.1765163 |\n",
       "|  38 | 0.6785714 |  27 | 0.4736842 |  43 | 0.8431373 |  42 | 0.6666667 |  150 | 0.6607930 |\n",
       "|  29 | 0.7631579 |  23 | 0.8518519 |  38 | 0.8837209 |  38 | 0.9047619 |  128 | 0.8533333 |\n",
       "|  29 | 1.0000000 |  23 | 1.0000000 |  37 | 0.9736842 |  37 | 0.9736842 |  126 | 0.9843750 |\n",
       "\n"
      ],
      "text/plain": [
       "  baseline_n baseline_perc transparency_n transparency_perc control_n\n",
       "1 322        1.0000000     321            1.0000000         322      \n",
       "2  56        0.1739130      57            0.1775701          51      \n",
       "3  38        0.6785714      27            0.4736842          43      \n",
       "4  29        0.7631579      23            0.8518519          38      \n",
       "5  29        1.0000000      23            1.0000000          37      \n",
       "  control_perc both_n both_perc total_n total_perc\n",
       "1 1.0000000    321    1.0000000 1286    1.0000000 \n",
       "2 0.1583851     63    0.1962617  227    0.1765163 \n",
       "3 0.8431373     42    0.6666667  150    0.6607930 \n",
       "4 0.8837209     38    0.9047619  128    0.8533333 \n",
       "5 0.9736842     37    0.9736842  126    0.9843750 "
      ]
     },
     "metadata": {},
     "output_type": "display_data"
    }
   ],
   "source": [
    "# Table 3\n",
    "df_table3 <- data.frame(\n",
    "  baseline_n = c(n_assigned_ba,n_onboarding_finished_ba,n_appinst_ba,n_day1_ba,n_day6_ba),\n",
    "  baseline_perc = c(1,n_onboarding_finished_ba/n_assigned_ba,n_appinst_ba/n_onboarding_finished_ba,n_day1_ba/n_appinst_ba,n_day6_ba/n_day1_ba),\n",
    "  transparency_n = c(n_assigned_tr,n_onboarding_finished_tr,n_appinst_tr,n_day1_tr,n_day6_tr),\n",
    "  transparency_perc = c(1,n_onboarding_finished_tr/n_assigned_tr,n_appinst_tr/n_onboarding_finished_tr,n_day1_tr/n_appinst_tr,n_day6_tr/n_day1_tr),\n",
    "  control_n = c(n_assigned_co,n_onboarding_finished_co,n_appinst_co,n_day1_co,n_day6_co),\n",
    "  control_perc = c(1,n_onboarding_finished_co/n_assigned_co,n_appinst_co/n_onboarding_finished_co,n_day1_co/n_appinst_co,n_day6_co/n_day1_co),\n",
    "  both_n = c(n_assigned_bo,n_onboarding_finished_bo,n_appinst_bo,n_day1_bo,n_day6_bo),\n",
    "  both_perc = c(1,n_onboarding_finished_bo/n_assigned_bo,n_appinst_bo/n_onboarding_finished_bo,n_day1_bo/n_appinst_bo,n_day6_bo/n_day1_bo),\n",
    "  total_n = c(n_assigned_ba+n_assigned_tr+n_assigned_co+n_assigned_bo,\n",
    "              n_onboarding_finished_ba+n_onboarding_finished_tr+n_onboarding_finished_co+n_onboarding_finished_bo,\n",
    "              n_appinst_ba+n_appinst_tr+n_appinst_co+n_appinst_bo,\n",
    "              n_day1_ba+n_day1_tr+n_day1_co+n_day1_bo,\n",
    "              n_day6_ba+n_day6_tr+n_day6_co+n_day6_bo),\n",
    "  total_perc = c(1,\n",
    "                 (n_onboarding_finished_ba+n_onboarding_finished_tr+n_onboarding_finished_co+n_onboarding_finished_bo)/(n_assigned_ba+n_assigned_tr+n_assigned_co+n_assigned_bo),\n",
    "                 (n_appinst_ba+n_appinst_co+n_appinst_bo+n_appinst_tr)/(n_onboarding_finished_ba+n_onboarding_finished_tr+n_onboarding_finished_co+n_onboarding_finished_bo),\n",
    "                 (n_day1_ba+n_day1_bo+n_day1_co+n_day1_tr)/(n_appinst_ba+n_appinst_co+n_appinst_bo+n_appinst_tr),\n",
    "                 (n_day6_ba+n_day6_bo+n_day6_co+n_day6_tr)/(n_day1_ba+n_day1_bo+n_day1_co+n_day1_tr)\n",
    "                 )\n",
    "  )\n",
    "\n",
    "View(df_table3)"
   ]
  },
  {
   "cell_type": "code",
   "execution_count": 10,
   "id": "0f2c99de",
   "metadata": {},
   "outputs": [
    {
     "name": "stdout",
     "output_type": "stream",
     "text": [
      "[1] \"Significance Test for differences in participation: Interst in Study -> Indicated Participation\"\n",
      "\n",
      "\tPearson's Chi-squared test\n",
      "\n",
      "data:  as.table(mat_onboarding)\n",
      "X-squared = 1.6067, df = 3, p-value = 0.6579\n",
      "\n"
     ]
    }
   ],
   "source": [
    "### Tests: Differences in participation and dropout between the four study conditions ###\n",
    "## (section 6.1 paragraph 2)\n",
    "\n",
    "## Interst in Study -> Indicated Participation\n",
    "mat_onboarding <- matrix(c(n_onboarding_finished_ba, \n",
    "                           n_onboarding_finished_tr,\n",
    "                           n_onboarding_finished_co,\n",
    "                           n_onboarding_finished_bo,\n",
    "                        max(0,n_assigned_ba-n_onboarding_finished_ba), \n",
    "                        max(0,n_assigned_tr-n_onboarding_finished_tr),\n",
    "                        max(0,n_assigned_co-n_onboarding_finished_co),\n",
    "                        max(0,n_assigned_bo-n_onboarding_finished_bo)\n",
    "                ), ncol=2)\n",
    "colnames(mat_onboarding) <- c(\"Onboarded\",\"Aborted\")\n",
    "row.names(mat_onboarding) <- c(\"baseline\",\"transparency\",\"control\",\"both\")\n",
    "test_onboarding <- chisq.test(as.table(mat_onboarding), correct = FALSE)\n",
    "print(\"Significance Test for differences in participation: Interst in Study -> Indicated Participation\")\n",
    "print(test_onboarding)"
   ]
  },
  {
   "cell_type": "code",
   "execution_count": 11,
   "id": "faacd681",
   "metadata": {},
   "outputs": [
    {
     "name": "stdout",
     "output_type": "stream",
     "text": [
      "[1] \"Significance Test for differences in participation: Indicated Participation -> App Installed\"\n",
      "\n",
      "\tPearson's Chi-squared test\n",
      "\n",
      "data:  as.table(mat)\n",
      "X-squared = 16.557, df = 3, p-value = 0.0008716\n",
      "\n",
      "[1] \"Onboarding Q finished -> App Inst : Significant relation found with p= 0.000871641628754211\"\n",
      "[1] \"Onboarding Q finished -> App Inst : Variables in the following table whose magnitude is higher than -2.73436878653318 occured significantly more/less often\"\n",
      "     Dimension     Value App Installed App Not Installed\n",
      "1     baseline Residuals     0.3237713        -0.3237713\n",
      "2     baseline  p values     1.0000000         1.0000000\n",
      "3 transparency Residuals    -3.4479014         3.4479014\n",
      "4 transparency  p values     0.0045200         0.0045200\n",
      "5      control Residuals     3.1236959        -3.1236959\n",
      "6      control  p values     0.0142880         0.0142880\n",
      "7         both Residuals     0.1158535        -0.1158535\n",
      "8         both  p values     1.0000000         1.0000000\n"
     ]
    }
   ],
   "source": [
    "## Indicated Participation -> App Installed\n",
    "mat_onbq_appinst <- matrix(c(n_appinst_ba, \n",
    "                        n_appinst_tr,\n",
    "                        n_appinst_co,\n",
    "                        n_appinst_bo,\n",
    "                        max(0,n_onboarding_finished_ba-n_appinst_ba), \n",
    "                        max(0,n_onboarding_finished_tr-n_appinst_tr),\n",
    "                        max(0,n_onboarding_finished_co-n_appinst_co),\n",
    "                        max(0,n_onboarding_finished_bo-n_appinst_bo)\n",
    "), ncol=2)\n",
    "colnames(mat_onbq_appinst) <- c(\"App Installed\",\"App Not Installed\")\n",
    "row.names(mat_onbq_appinst) <- c(\"baseline\",\"transparency\",\"control\",\"both\")\n",
    "\n",
    "print(\"Significance Test for differences in participation: Indicated Participation -> App Installed\")\n",
    "chi_sq_test(\"Indicated Participation -> App Installed\", mat_onbq_appinst)"
   ]
  },
  {
   "cell_type": "code",
   "execution_count": 12,
   "id": "de639f7d",
   "metadata": {},
   "outputs": [
    {
     "name": "stderr",
     "output_type": "stream",
     "text": [
      "Warning message in chisq.test(as.table(mat_inst_day1), correct = FALSE):\n",
      "\"Chi-squared approximation may be incorrect\"\n"
     ]
    },
    {
     "name": "stdout",
     "output_type": "stream",
     "text": [
      "[1] \"Significance Test for differences in participation: App Installed -> Kept app installed for at least one day\"\n",
      "\n",
      "\tPearson's Chi-squared test\n",
      "\n",
      "data:  as.table(mat_inst_day1)\n",
      "X-squared = 3.6742, df = 3, p-value = 0.2989\n",
      "\n"
     ]
    }
   ],
   "source": [
    "## App Installed -> Kept app installed for at least one day\n",
    "mat_inst_day1 <- matrix(c(n_day1_ba, \n",
    "                          n_day1_tr,\n",
    "                          n_day1_co,\n",
    "                          n_day1_bo,\n",
    "                          max(0,n_appinst_ba-n_day1_ba), \n",
    "                          max(0,n_appinst_tr-n_day1_tr),\n",
    "                          max(0,n_appinst_co-n_day1_co),\n",
    "                          max(0,n_appinst_bo-n_day1_bo)\n",
    "), ncol=2)\n",
    "colnames(mat_inst_day1) <- c(\"App 1+ day\",\"App less than 1 day\")\n",
    "row.names(mat_inst_day1) <- c(\"baseline\",\"transparency\",\"control\",\"both\")\n",
    "test_inst_day1 <- chisq.test(as.table(mat_inst_day1), correct = FALSE)\n",
    "print(\"Significance Test for differences in participation: App Installed -> Kept app installed for at least one day\")\n",
    "print(test_inst_day1)\n"
   ]
  },
  {
   "cell_type": "code",
   "execution_count": 13,
   "id": "4d26076f",
   "metadata": {},
   "outputs": [
    {
     "name": "stdout",
     "output_type": "stream",
     "text": [
      "[1] \"Significance Test for differences in participation: Kept app installed for at least one day -> Kept app until study end\"\n"
     ]
    },
    {
     "name": "stderr",
     "output_type": "stream",
     "text": [
      "Warning message in chisq.test(as.table(mat), correct = FALSE):\n",
      "\"Chi-squared approximation may be incorrect\"\n"
     ]
    },
    {
     "name": "stdout",
     "output_type": "stream",
     "text": [
      "\n",
      "\tPearson's Chi-squared test\n",
      "\n",
      "data:  as.table(mat)\n",
      "X-squared = 1.3901, df = 3, p-value = 0.7078\n",
      "\n",
      "[1] \"Kept app installed for at least one day -> Kept app until study end : No significant relation found\"\n"
     ]
    }
   ],
   "source": [
    "## Kept app installed for at least one day -> Kept app until study end\n",
    "n_day6_ba = nrow(users %>% filter(condition==\"baseline\" & days_in_study >= ddays(6)))\n",
    "n_day6_tr = nrow(users %>% filter(condition==\"transparency\" & days_in_study >= ddays(6)))\n",
    "n_day6_co = nrow(users %>% filter(condition==\"control\" & days_in_study >= ddays(6)))\n",
    "n_day6_bo = nrow(users %>% filter(condition==\"both\" & days_in_study >= ddays(6)))\n",
    "mat_day1_day6 <- matrix(c(n_day6_ba, \n",
    "                          n_day6_tr,\n",
    "                          n_day6_co,\n",
    "                          n_day6_bo,\n",
    "                          max(0,n_day1_ba-n_day6_ba), \n",
    "                          max(0,n_day1_tr-n_day6_tr),\n",
    "                          max(0,n_day1_co-n_day6_co),\n",
    "                          max(0,n_day1_bo-n_day6_bo)\n",
    "), ncol=2)\n",
    "colnames(mat_day1_day6) <- c(\"App 6+ day\",\"App less than 6 day\")\n",
    "row.names(mat_day1_day6) <- c(\"baseline\",\"transparency\",\"control\",\"both\")\n",
    "print(\"Significance Test for differences in participation: Kept app installed for at least one day -> Kept app until study end\")\n",
    "chi_sq_test(\"Kept app installed for at least one day -> Kept app until study end\",mat_day1_day6)"
   ]
  },
  {
   "cell_type": "code",
   "execution_count": 29,
   "id": "7150733f",
   "metadata": {},
   "outputs": [
    {
     "data": {
      "image/png": "[encoded data removed]",
      "text/plain": [
       "plot without title"
      ]
     },
     "metadata": {
      "image/png": {
       "height": 420,
       "width": 420
      }
     },
     "output_type": "display_data"
    }
   ],
   "source": [
    "## Chart: Study Progress (Figure 4)\n",
    "df_studyprogress <- data.frame(studyprogress = factor(c(\"interested in study\",\n",
    "                                    \"interested in study\",\n",
    "                                    \"interested in study\",\n",
    "                                    \"interested in study\",\n",
    "                                    \"indicated participation\",\n",
    "                                    \"indicated participation\",\n",
    "                                    \"indicated participation\",\n",
    "                                    \"indicated participation\",\n",
    "                                    \"installed app\",\n",
    "                                    \"installed app\",\n",
    "                                    \"installed app\",\n",
    "                                    \"installed app\",\n",
    "                                    \"study day 1\",\n",
    "                                    \"study day 1\",\n",
    "                                    \"study day 1\",\n",
    "                                    \"study day 1\",                                 \n",
    "                                    \"study end\",\n",
    "                                    \"study end\",\n",
    "                                    \"study end\",\n",
    "                                    \"study end\"\n",
    "                                    ), levels=c(\"interested in study\",\"indicated participation\",\"installed app\",\"study day 1\",\"study end\")), # this defines the order on the x axis\n",
    "                 condition = factor(c(\"baseline\", \n",
    "                               \"transparency\",\n",
    "                               \"control\",\n",
    "                               \"both\",\n",
    "                               \"baseline\", \n",
    "                               \"transparency\",\n",
    "                               \"control\",\n",
    "                               \"both\",\n",
    "                               \"baseline\", \n",
    "                               \"transparency\",\n",
    "                               \"control\",\n",
    "                               \"both\",\n",
    "                               \"baseline\", \n",
    "                               \"transparency\",\n",
    "                               \"control\",\n",
    "                               \"both\",\n",
    "                               \"baseline\", \n",
    "                               \"transparency\",\n",
    "                               \"control\",\n",
    "                               \"both\"),levels=c(\"baseline\",\"transparency\",\"control\",\"both\")),\n",
    "                 N = c(n_assigned_ba,\n",
    "                       n_assigned_tr,\n",
    "                       n_assigned_co,\n",
    "                       n_assigned_bo,\n",
    "                       n_onboarding_finished_ba,\n",
    "                       n_onboarding_finished_tr,\n",
    "                       n_onboarding_finished_co,\n",
    "                       n_onboarding_finished_bo,\n",
    "                       n_appinst_ba,\n",
    "                       n_appinst_tr,\n",
    "                       n_appinst_co,\n",
    "                       n_appinst_bo,\n",
    "                       n_day1_ba,\n",
    "                       n_day1_tr,\n",
    "                       n_day1_co,\n",
    "                       n_day1_bo,                \n",
    "                       n_day6_ba,\n",
    "                       n_day6_tr,\n",
    "                       n_day6_co,\n",
    "                       n_day6_bo\n",
    "                       )\n",
    ")\n",
    "\n",
    "ggplot(\n",
    "  data=data.frame(df_studyprogress), \n",
    "  aes(x = studyprogress, y = N, color = condition, group=condition)\n",
    "  ) + \n",
    "  geom_line(size = 2)+\n",
    "  scale_color_manual(values=c('#f3b94d','#00748d','#F241B8','#76F266'))+\n",
    "  theme_minimal()+\n",
    "  labs(x=\"phase of study\",y=\"N\", title=\"Figure 4\")+\n",
    "  scale_y_continuous(trans='log10') +\n",
    "  theme(\n",
    "    axis.text.x = element_text(angle = 45, hjust=1),\n",
    "    legend.position = c(.7, .7)\n",
    "    )"
   ]
  },
  {
   "cell_type": "code",
   "execution_count": 4,
   "id": "a9f44e75",
   "metadata": {},
   "outputs": [
    {
     "name": "stderr",
     "output_type": "stream",
     "text": [
      "`summarise()` ungrouping output (override with `.groups` argument)\n",
      "\n",
      "Joining, by = \"username\"\n",
      "\n",
      "Warning message:\n",
      "\"package 'plyr' was built under R version 3.6.3\"\n",
      "------------------------------------------------------------------------------\n",
      "\n",
      "You have loaded plyr after dplyr - this is likely to cause problems.\n",
      "If you need functions from both plyr and dplyr, please load plyr first, then dplyr:\n",
      "library(plyr); library(dplyr)\n",
      "\n",
      "------------------------------------------------------------------------------\n",
      "\n",
      "\n",
      "Attaching package: 'plyr'\n",
      "\n",
      "\n",
      "The following objects are masked from 'package:dplyr':\n",
      "\n",
      "    arrange, count, desc, failwith, id, mutate, rename, summarise,\n",
      "    summarize\n",
      "\n",
      "\n",
      "Warning message:\n",
      "\"Removed 4 rows containing missing values (geom_bar).\"\n"
     ]
    },
    {
     "data": {
      "image/png": "[encoded data removed]",
      "text/plain": [
       "plot without title"
      ]
     },
     "metadata": {
      "image/png": {
       "height": 420,
       "width": 420
      }
     },
     "output_type": "display_data"
    }
   ],
   "source": [
    "### Usage of the Privacy Dashboard\n",
    "## import\n",
    "ps_dashboard_usage <- readRDS('data/app/ps_dashboard_usage.rds')\n",
    "\n",
    "## How is the usage distributed across the participants?\n",
    "ps_dashboard_usage_counts <- ps_dashboard_usage %>% \n",
    "  filter(dashboard_event == \"DASHBOARD_OPENED\") %>%\n",
    "  filter(condition %in% c(\"transparency\",\"both\")) %>%\n",
    "  group_by(username) %>%\n",
    "  dplyr::summarize(count=n()) %>%\n",
    "  dplyr::right_join(users %>% select(username,condition) %>% filter(condition %in% c(\"transparency\",\"both\"))) %>%\n",
    "  mutate(count = ifelse(is.na(count), 0, count)) %>%\n",
    "   mutate(transparency = condition %in% c(\"transparency\",\"both\"), control = condition %in% c(\"control\",\"both\"))\n",
    "\n",
    "library(plyr)\n",
    "mu <- ps_dashboard_usage_counts %>% ddply(\"condition\", summarise, grp.mean=mean(count))\n",
    " \n",
    "## Figure 5a\n",
    "ggplot(data = ps_dashboard_usage_counts, aes(x = count, fill=condition, color=condition)) +\n",
    "  geom_histogram(binwidth = 5, alpha=0.3, position=\"identity\") +\n",
    "  theme_minimal() + \n",
    "  labs(y = \"amount of users\", x = \"Amount of dashboard opens per user\")+\n",
    "  scale_fill_manual(values=c('#76F266','#00748d'))+\n",
    "  scale_color_manual(values=c('#76F266','#00748d'))+\n",
    "  # add mean line\n",
    "  geom_vline(data=mu, aes(xintercept=grp.mean, color=condition),\n",
    "             linetype=\"dashed\")+\n",
    "    xlim(-3,80)+\n",
    "  ylim(0,40)+\n",
    "    theme(\n",
    "    legend.position = c(.7, .7)\n",
    "    )"
   ]
  },
  {
   "cell_type": "code",
   "execution_count": 7,
   "id": "f2e3820e",
   "metadata": {},
   "outputs": [
    {
     "name": "stderr",
     "output_type": "stream",
     "text": [
      "`summarise()` ungrouping output (override with `.groups` argument)\n",
      "\n",
      "Joining, by = \"username\"\n",
      "\n",
      "Warning message:\n",
      "\"Removed 4 rows containing missing values (geom_bar).\"\n"
     ]
    },
    {
     "data": {
      "image/png": "[encoded data removed]",
      "text/plain": [
       "plot without title"
      ]
     },
     "metadata": {
      "image/png": {
       "height": 420,
       "width": 420
      }
     },
     "output_type": "display_data"
    }
   ],
   "source": [
    "### Usage of Control features\n",
    "psusage <- readRDS(\"data/app/ps_usage.rds\") # TODO file\n",
    "\n",
    "ps_control_usage_counts <- psusage %>% \n",
    "  filter(event == \"logging-feature-status-changed\") %>%\n",
    "  filter(condition %in% c(\"control\",\"both\")) %>%\n",
    "  group_by(username) %>%\n",
    "  dplyr::summarize(count=n()) %>%\n",
    "  dplyr::right_join(users %>% select(username,condition) %>% filter(condition %in% c(\"control\",\"both\"))) %>%\n",
    "  mutate(count = ifelse(is.na(count), 0, count))\n",
    "  \n",
    "library(plyr)\n",
    "mu2 <- ps_control_usage_counts %>% ddply(\"condition\", summarise, grp.mean=mean(count))\n",
    " \n",
    "# Figure 5b\n",
    "ggplot(data = ps_control_usage_counts, aes(x = count, fill=condition, color=condition)) +\n",
    "  geom_histogram(binwidth = 5, alpha=0.3, position=\"identity\") +\n",
    "  theme_minimal() + \n",
    "  labs(y = \"amount of users\", x = \"Amount of logging stoppages per user\")+\n",
    "  scale_fill_manual(values=c('#76F266','#F241B8'))+\n",
    "  scale_color_manual(values=c('#76F266','#F241B8'))+\n",
    "  # add mean line\n",
    "  geom_vline(data=mu2, aes(xintercept=grp.mean, color=condition),\n",
    "             linetype=\"dashed\")+\n",
    "  xlim(-3,80)+\n",
    "  ylim(0,40)+\n",
    "    theme(\n",
    "    legend.position = c(.7, .7)\n",
    "    )"
   ]
  },
  {
   "cell_type": "code",
   "execution_count": 16,
   "id": "90d0e598",
   "metadata": {},
   "outputs": [
    {
     "name": "stderr",
     "output_type": "stream",
     "text": [
      "Warning message in leveneTest.default(y = y, group = group, ...):\n",
      "\"group coerced to factor.\"\n"
     ]
    },
    {
     "name": "stdout",
     "output_type": "stream",
     "text": [
      "[1] \"is normally distributed:  FALSE , has equal variances:  TRUE\"\n",
      "[1] \"continuing with Mann-Whitney U Test\"\n"
     ]
    },
    {
     "name": "stderr",
     "output_type": "stream",
     "text": [
      "Warning message in wilcox.test.default(df1, df2):\n",
      "\"cannot compute exact p-value with ties\"\n"
     ]
    },
    {
     "name": "stdout",
     "output_type": "stream",
     "text": [
      "\n",
      "\tWilcoxon rank sum test with continuity correction\n",
      "\n",
      "data:  df1 and df2\n",
      "W = 631.5, p-value = 0.4301\n",
      "alternative hypothesis: true location shift is not equal to 0\n",
      "\n"
     ]
    }
   ],
   "source": [
    "### Tests: Differences in the usage of Transparency features between the four study conditions ###\n",
    "## (section 6.1 paragraph 3)\n",
    "# independent samples t test\n",
    "independent_samples_t_test(\n",
    "    ps_dashboard_usage_counts %>% \n",
    "    filter(condition == \"transparency\") %>% \n",
    "    .$count, ps_dashboard_usage_counts %>% \n",
    "    filter(condition == \"both\") %>% \n",
    "    .$count, ps_dashboard_usage_counts\n",
    ")\n"
   ]
  },
  {
   "cell_type": "code",
   "execution_count": null,
   "id": "a28bb71c",
   "metadata": {},
   "outputs": [],
   "source": [
    "\n"
   ]
  },
  {
   "cell_type": "code",
   "execution_count": 17,
   "id": "9344f0ff",
   "metadata": {},
   "outputs": [
    {
     "name": "stderr",
     "output_type": "stream",
     "text": [
      "Warning message in leveneTest.default(y = y, group = group, ...):\n",
      "\"group coerced to factor.\"\n"
     ]
    },
    {
     "name": "stdout",
     "output_type": "stream",
     "text": [
      "[1] \"is normally distributed:  FALSE , has equal variances:  TRUE\"\n",
      "[1] \"continuing with Mann-Whitney U Test\"\n"
     ]
    },
    {
     "name": "stderr",
     "output_type": "stream",
     "text": [
      "Warning message in wilcox.test.default(df1, df2):\n",
      "\"cannot compute exact p-value with ties\"\n"
     ]
    },
    {
     "name": "stdout",
     "output_type": "stream",
     "text": [
      "\n",
      "\tWilcoxon rank sum test with continuity correction\n",
      "\n",
      "data:  df1 and df2\n",
      "W = 960, p-value = 0.3945\n",
      "alternative hypothesis: true location shift is not equal to 0\n",
      "\n"
     ]
    }
   ],
   "source": [
    "### Tests: Differences in the usage of Control features between the four study conditions ###\n",
    "## (section 6.1 paragraph 4)\n",
    "# independent samples t test\n",
    "independent_samples_t_test(\n",
    "    ps_control_usage_counts %>% \n",
    "    filter(condition == \"control\") %>% \n",
    "    .$count, ps_control_usage_counts %>% \n",
    "    filter(condition == \"both\") %>% \n",
    "    .$count, ps_control_usage_counts\n",
    ")"
   ]
  },
  {
   "cell_type": "code",
   "execution_count": 19,
   "id": "17db841a",
   "metadata": {},
   "outputs": [
    {
     "name": "stderr",
     "output_type": "stream",
     "text": [
      "Warning message:\n",
      "\"Removed 3 rows containing non-finite values (stat_boxplot).\"\n",
      "Warning message:\n",
      "\"Removed 3 rows containing missing values (geom_point).\"\n"
     ]
    },
    {
     "name": "stdout",
     "output_type": "stream",
     "text": [
      "[1] \"sample is not normally distributed, continuing with Sven's special anova test (ARTool)\"\n"
     ]
    },
    {
     "data": {
      "text/html": [
       "<table class=\"dataframe\">\n",
       "<caption>A anova.art: 3 × 7</caption>\n",
       "<thead>\n",
       "\t<tr><th></th><th scope=col>Term</th><th scope=col>Df</th><th scope=col>Df.res</th><th scope=col>Sum Sq</th><th scope=col>Sum Sq.res</th><th scope=col>F value</th><th scope=col>Pr(&gt;F)</th></tr>\n",
       "\t<tr><th></th><th scope=col>&lt;fct&gt;</th><th scope=col>&lt;dbl&gt;</th><th scope=col>&lt;dbl&gt;</th><th scope=col>&lt;dbl&gt;</th><th scope=col>&lt;dbl&gt;</th><th scope=col>&lt;dbl&gt;</th><th scope=col>&lt;dbl&gt;</th></tr>\n",
       "</thead>\n",
       "<tbody>\n",
       "\t<tr><th scope=row>1</th><td>transparency        </td><td>1</td><td>114</td><td>13728.4969</td><td>122096.8</td><td>12.8180987</td><td>0.0005056755</td></tr>\n",
       "\t<tr><th scope=row>2</th><td>control             </td><td>1</td><td>114</td><td> 3090.6956</td><td>130856.2</td><td> 2.6925688</td><td>0.1035734073</td></tr>\n",
       "\t<tr><th scope=row>3</th><td>transparency:control</td><td>1</td><td>114</td><td>  177.7875</td><td>132568.3</td><td> 0.1528855</td><td>0.6965227392</td></tr>\n",
       "</tbody>\n",
       "</table>\n"
      ],
      "text/latex": [
       "A anova.art: 3 × 7\n",
       "\\begin{tabular}{r|lllllll}\n",
       "  & Term & Df & Df.res & Sum Sq & Sum Sq.res & F value & Pr(>F)\\\\\n",
       "  & <fct> & <dbl> & <dbl> & <dbl> & <dbl> & <dbl> & <dbl>\\\\\n",
       "\\hline\n",
       "\t1 & transparency         & 1 & 114 & 13728.4969 & 122096.8 & 12.8180987 & 0.0005056755\\\\\n",
       "\t2 & control              & 1 & 114 &  3090.6956 & 130856.2 &  2.6925688 & 0.1035734073\\\\\n",
       "\t3 & transparency:control & 1 & 114 &   177.7875 & 132568.3 &  0.1528855 & 0.6965227392\\\\\n",
       "\\end{tabular}\n"
      ],
      "text/markdown": [
       "\n",
       "A anova.art: 3 × 7\n",
       "\n",
       "| <!--/--> | Term &lt;fct&gt; | Df &lt;dbl&gt; | Df.res &lt;dbl&gt; | Sum Sq &lt;dbl&gt; | Sum Sq.res &lt;dbl&gt; | F value &lt;dbl&gt; | Pr(&gt;F) &lt;dbl&gt; |\n",
       "|---|---|---|---|---|---|---|---|\n",
       "| 1 | transparency         | 1 | 114 | 13728.4969 | 122096.8 | 12.8180987 | 0.0005056755 |\n",
       "| 2 | control              | 1 | 114 |  3090.6956 | 130856.2 |  2.6925688 | 0.1035734073 |\n",
       "| 3 | transparency:control | 1 | 114 |   177.7875 | 132568.3 |  0.1528855 | 0.6965227392 |\n",
       "\n"
      ],
      "text/plain": [
       "  Term                 Df Df.res Sum Sq     Sum Sq.res F value    Pr(>F)      \n",
       "1 transparency         1  114    13728.4969 122096.8   12.8180987 0.0005056755\n",
       "2 control              1  114     3090.6956 130856.2    2.6925688 0.1035734073\n",
       "3 transparency:control 1  114      177.7875 132568.3    0.1528855 0.6965227392"
      ]
     },
     "metadata": {},
     "output_type": "display_data"
    },
    {
     "data": {
      "text/html": [
       "<table class=\"dataframe\">\n",
       "<caption>A tibble: 118 × 4</caption>\n",
       "<thead>\n",
       "\t<tr><th scope=col>condition</th><th scope=col>transparency</th><th scope=col>control</th><th scope=col>data_understanding_v2</th></tr>\n",
       "\t<tr><th scope=col>&lt;chr&gt;</th><th scope=col>&lt;lgl&gt;</th><th scope=col>&lt;lgl&gt;</th><th scope=col>&lt;dbl&gt;</th></tr>\n",
       "</thead>\n",
       "<tbody>\n",
       "\t<tr><td>baseline</td><td>FALSE</td><td>FALSE</td><td> 7</td></tr>\n",
       "\t<tr><td>baseline</td><td>FALSE</td><td>FALSE</td><td> 7</td></tr>\n",
       "\t<tr><td>baseline</td><td>FALSE</td><td>FALSE</td><td> 2</td></tr>\n",
       "\t<tr><td>baseline</td><td>FALSE</td><td>FALSE</td><td> 9</td></tr>\n",
       "\t<tr><td>baseline</td><td>FALSE</td><td>FALSE</td><td> 6</td></tr>\n",
       "\t<tr><td>baseline</td><td>FALSE</td><td>FALSE</td><td> 5</td></tr>\n",
       "\t<tr><td>baseline</td><td>FALSE</td><td>FALSE</td><td> 3</td></tr>\n",
       "\t<tr><td>baseline</td><td>FALSE</td><td>FALSE</td><td> 5</td></tr>\n",
       "\t<tr><td>baseline</td><td>FALSE</td><td>FALSE</td><td> 6</td></tr>\n",
       "\t<tr><td>baseline</td><td>FALSE</td><td>FALSE</td><td> 7</td></tr>\n",
       "\t<tr><td>baseline</td><td>FALSE</td><td>FALSE</td><td> 7</td></tr>\n",
       "\t<tr><td>baseline</td><td>FALSE</td><td>FALSE</td><td> 7</td></tr>\n",
       "\t<tr><td>baseline</td><td>FALSE</td><td>FALSE</td><td> 0</td></tr>\n",
       "\t<tr><td>baseline</td><td>FALSE</td><td>FALSE</td><td> 7</td></tr>\n",
       "\t<tr><td>baseline</td><td>FALSE</td><td>FALSE</td><td> 5</td></tr>\n",
       "\t<tr><td>baseline</td><td>FALSE</td><td>FALSE</td><td> 6</td></tr>\n",
       "\t<tr><td>baseline</td><td>FALSE</td><td>FALSE</td><td> 7</td></tr>\n",
       "\t<tr><td>baseline</td><td>FALSE</td><td>FALSE</td><td> 9</td></tr>\n",
       "\t<tr><td>baseline</td><td>FALSE</td><td>FALSE</td><td> 8</td></tr>\n",
       "\t<tr><td>baseline</td><td>FALSE</td><td>FALSE</td><td> 8</td></tr>\n",
       "\t<tr><td>baseline</td><td>FALSE</td><td>FALSE</td><td> 6</td></tr>\n",
       "\t<tr><td>baseline</td><td>FALSE</td><td>FALSE</td><td>10</td></tr>\n",
       "\t<tr><td>baseline</td><td>FALSE</td><td>FALSE</td><td> 8</td></tr>\n",
       "\t<tr><td>baseline</td><td>FALSE</td><td>FALSE</td><td> 7</td></tr>\n",
       "\t<tr><td>baseline</td><td>FALSE</td><td>FALSE</td><td>10</td></tr>\n",
       "\t<tr><td>baseline</td><td>FALSE</td><td>FALSE</td><td> 7</td></tr>\n",
       "\t<tr><td>baseline</td><td>FALSE</td><td>FALSE</td><td>10</td></tr>\n",
       "\t<tr><td>both    </td><td> TRUE</td><td> TRUE</td><td> 7</td></tr>\n",
       "\t<tr><td>both    </td><td> TRUE</td><td> TRUE</td><td> 9</td></tr>\n",
       "\t<tr><td>both    </td><td> TRUE</td><td> TRUE</td><td> 8</td></tr>\n",
       "\t<tr><td>...</td><td>...</td><td>...</td><td>...</td></tr>\n",
       "\t<tr><td>control     </td><td>FALSE</td><td> TRUE</td><td> 9</td></tr>\n",
       "\t<tr><td>control     </td><td>FALSE</td><td> TRUE</td><td> 5</td></tr>\n",
       "\t<tr><td>control     </td><td>FALSE</td><td> TRUE</td><td> 5</td></tr>\n",
       "\t<tr><td>control     </td><td>FALSE</td><td> TRUE</td><td> 8</td></tr>\n",
       "\t<tr><td>control     </td><td>FALSE</td><td> TRUE</td><td> 9</td></tr>\n",
       "\t<tr><td>control     </td><td>FALSE</td><td> TRUE</td><td> 9</td></tr>\n",
       "\t<tr><td>control     </td><td>FALSE</td><td> TRUE</td><td> 6</td></tr>\n",
       "\t<tr><td>transparency</td><td> TRUE</td><td>FALSE</td><td> 7</td></tr>\n",
       "\t<tr><td>transparency</td><td> TRUE</td><td>FALSE</td><td> 7</td></tr>\n",
       "\t<tr><td>transparency</td><td> TRUE</td><td>FALSE</td><td>10</td></tr>\n",
       "\t<tr><td>transparency</td><td> TRUE</td><td>FALSE</td><td>10</td></tr>\n",
       "\t<tr><td>transparency</td><td> TRUE</td><td>FALSE</td><td> 8</td></tr>\n",
       "\t<tr><td>transparency</td><td> TRUE</td><td>FALSE</td><td>10</td></tr>\n",
       "\t<tr><td>transparency</td><td> TRUE</td><td>FALSE</td><td> 7</td></tr>\n",
       "\t<tr><td>transparency</td><td> TRUE</td><td>FALSE</td><td> 6</td></tr>\n",
       "\t<tr><td>transparency</td><td> TRUE</td><td>FALSE</td><td> 0</td></tr>\n",
       "\t<tr><td>transparency</td><td> TRUE</td><td>FALSE</td><td> 8</td></tr>\n",
       "\t<tr><td>transparency</td><td> TRUE</td><td>FALSE</td><td> 5</td></tr>\n",
       "\t<tr><td>transparency</td><td> TRUE</td><td>FALSE</td><td> 9</td></tr>\n",
       "\t<tr><td>transparency</td><td> TRUE</td><td>FALSE</td><td> 9</td></tr>\n",
       "\t<tr><td>transparency</td><td> TRUE</td><td>FALSE</td><td>10</td></tr>\n",
       "\t<tr><td>transparency</td><td> TRUE</td><td>FALSE</td><td> 9</td></tr>\n",
       "\t<tr><td>transparency</td><td> TRUE</td><td>FALSE</td><td> 7</td></tr>\n",
       "\t<tr><td>transparency</td><td> TRUE</td><td>FALSE</td><td> 0</td></tr>\n",
       "\t<tr><td>transparency</td><td> TRUE</td><td>FALSE</td><td> 0</td></tr>\n",
       "\t<tr><td>transparency</td><td> TRUE</td><td>FALSE</td><td>10</td></tr>\n",
       "\t<tr><td>transparency</td><td> TRUE</td><td>FALSE</td><td> 8</td></tr>\n",
       "\t<tr><td>transparency</td><td> TRUE</td><td>FALSE</td><td> 6</td></tr>\n",
       "\t<tr><td>transparency</td><td> TRUE</td><td>FALSE</td><td>10</td></tr>\n",
       "\t<tr><td>transparency</td><td> TRUE</td><td>FALSE</td><td> 8</td></tr>\n",
       "</tbody>\n",
       "</table>\n"
      ],
      "text/latex": [
       "A tibble: 118 × 4\n",
       "\\begin{tabular}{llll}\n",
       " condition & transparency & control & data\\_understanding\\_v2\\\\\n",
       " <chr> & <lgl> & <lgl> & <dbl>\\\\\n",
       "\\hline\n",
       "\t baseline & FALSE & FALSE &  7\\\\\n",
       "\t baseline & FALSE & FALSE &  7\\\\\n",
       "\t baseline & FALSE & FALSE &  2\\\\\n",
       "\t baseline & FALSE & FALSE &  9\\\\\n",
       "\t baseline & FALSE & FALSE &  6\\\\\n",
       "\t baseline & FALSE & FALSE &  5\\\\\n",
       "\t baseline & FALSE & FALSE &  3\\\\\n",
       "\t baseline & FALSE & FALSE &  5\\\\\n",
       "\t baseline & FALSE & FALSE &  6\\\\\n",
       "\t baseline & FALSE & FALSE &  7\\\\\n",
       "\t baseline & FALSE & FALSE &  7\\\\\n",
       "\t baseline & FALSE & FALSE &  7\\\\\n",
       "\t baseline & FALSE & FALSE &  0\\\\\n",
       "\t baseline & FALSE & FALSE &  7\\\\\n",
       "\t baseline & FALSE & FALSE &  5\\\\\n",
       "\t baseline & FALSE & FALSE &  6\\\\\n",
       "\t baseline & FALSE & FALSE &  7\\\\\n",
       "\t baseline & FALSE & FALSE &  9\\\\\n",
       "\t baseline & FALSE & FALSE &  8\\\\\n",
       "\t baseline & FALSE & FALSE &  8\\\\\n",
       "\t baseline & FALSE & FALSE &  6\\\\\n",
       "\t baseline & FALSE & FALSE & 10\\\\\n",
       "\t baseline & FALSE & FALSE &  8\\\\\n",
       "\t baseline & FALSE & FALSE &  7\\\\\n",
       "\t baseline & FALSE & FALSE & 10\\\\\n",
       "\t baseline & FALSE & FALSE &  7\\\\\n",
       "\t baseline & FALSE & FALSE & 10\\\\\n",
       "\t both     &  TRUE &  TRUE &  7\\\\\n",
       "\t both     &  TRUE &  TRUE &  9\\\\\n",
       "\t both     &  TRUE &  TRUE &  8\\\\\n",
       "\t ... & ... & ... & ...\\\\\n",
       "\t control      & FALSE &  TRUE &  9\\\\\n",
       "\t control      & FALSE &  TRUE &  5\\\\\n",
       "\t control      & FALSE &  TRUE &  5\\\\\n",
       "\t control      & FALSE &  TRUE &  8\\\\\n",
       "\t control      & FALSE &  TRUE &  9\\\\\n",
       "\t control      & FALSE &  TRUE &  9\\\\\n",
       "\t control      & FALSE &  TRUE &  6\\\\\n",
       "\t transparency &  TRUE & FALSE &  7\\\\\n",
       "\t transparency &  TRUE & FALSE &  7\\\\\n",
       "\t transparency &  TRUE & FALSE & 10\\\\\n",
       "\t transparency &  TRUE & FALSE & 10\\\\\n",
       "\t transparency &  TRUE & FALSE &  8\\\\\n",
       "\t transparency &  TRUE & FALSE & 10\\\\\n",
       "\t transparency &  TRUE & FALSE &  7\\\\\n",
       "\t transparency &  TRUE & FALSE &  6\\\\\n",
       "\t transparency &  TRUE & FALSE &  0\\\\\n",
       "\t transparency &  TRUE & FALSE &  8\\\\\n",
       "\t transparency &  TRUE & FALSE &  5\\\\\n",
       "\t transparency &  TRUE & FALSE &  9\\\\\n",
       "\t transparency &  TRUE & FALSE &  9\\\\\n",
       "\t transparency &  TRUE & FALSE & 10\\\\\n",
       "\t transparency &  TRUE & FALSE &  9\\\\\n",
       "\t transparency &  TRUE & FALSE &  7\\\\\n",
       "\t transparency &  TRUE & FALSE &  0\\\\\n",
       "\t transparency &  TRUE & FALSE &  0\\\\\n",
       "\t transparency &  TRUE & FALSE & 10\\\\\n",
       "\t transparency &  TRUE & FALSE &  8\\\\\n",
       "\t transparency &  TRUE & FALSE &  6\\\\\n",
       "\t transparency &  TRUE & FALSE & 10\\\\\n",
       "\t transparency &  TRUE & FALSE &  8\\\\\n",
       "\\end{tabular}\n"
      ],
      "text/markdown": [
       "\n",
       "A tibble: 118 × 4\n",
       "\n",
       "| condition &lt;chr&gt; | transparency &lt;lgl&gt; | control &lt;lgl&gt; | data_understanding_v2 &lt;dbl&gt; |\n",
       "|---|---|---|---|\n",
       "| baseline | FALSE | FALSE |  7 |\n",
       "| baseline | FALSE | FALSE |  7 |\n",
       "| baseline | FALSE | FALSE |  2 |\n",
       "| baseline | FALSE | FALSE |  9 |\n",
       "| baseline | FALSE | FALSE |  6 |\n",
       "| baseline | FALSE | FALSE |  5 |\n",
       "| baseline | FALSE | FALSE |  3 |\n",
       "| baseline | FALSE | FALSE |  5 |\n",
       "| baseline | FALSE | FALSE |  6 |\n",
       "| baseline | FALSE | FALSE |  7 |\n",
       "| baseline | FALSE | FALSE |  7 |\n",
       "| baseline | FALSE | FALSE |  7 |\n",
       "| baseline | FALSE | FALSE |  0 |\n",
       "| baseline | FALSE | FALSE |  7 |\n",
       "| baseline | FALSE | FALSE |  5 |\n",
       "| baseline | FALSE | FALSE |  6 |\n",
       "| baseline | FALSE | FALSE |  7 |\n",
       "| baseline | FALSE | FALSE |  9 |\n",
       "| baseline | FALSE | FALSE |  8 |\n",
       "| baseline | FALSE | FALSE |  8 |\n",
       "| baseline | FALSE | FALSE |  6 |\n",
       "| baseline | FALSE | FALSE | 10 |\n",
       "| baseline | FALSE | FALSE |  8 |\n",
       "| baseline | FALSE | FALSE |  7 |\n",
       "| baseline | FALSE | FALSE | 10 |\n",
       "| baseline | FALSE | FALSE |  7 |\n",
       "| baseline | FALSE | FALSE | 10 |\n",
       "| both     |  TRUE |  TRUE |  7 |\n",
       "| both     |  TRUE |  TRUE |  9 |\n",
       "| both     |  TRUE |  TRUE |  8 |\n",
       "| ... | ... | ... | ... |\n",
       "| control      | FALSE |  TRUE |  9 |\n",
       "| control      | FALSE |  TRUE |  5 |\n",
       "| control      | FALSE |  TRUE |  5 |\n",
       "| control      | FALSE |  TRUE |  8 |\n",
       "| control      | FALSE |  TRUE |  9 |\n",
       "| control      | FALSE |  TRUE |  9 |\n",
       "| control      | FALSE |  TRUE |  6 |\n",
       "| transparency |  TRUE | FALSE |  7 |\n",
       "| transparency |  TRUE | FALSE |  7 |\n",
       "| transparency |  TRUE | FALSE | 10 |\n",
       "| transparency |  TRUE | FALSE | 10 |\n",
       "| transparency |  TRUE | FALSE |  8 |\n",
       "| transparency |  TRUE | FALSE | 10 |\n",
       "| transparency |  TRUE | FALSE |  7 |\n",
       "| transparency |  TRUE | FALSE |  6 |\n",
       "| transparency |  TRUE | FALSE |  0 |\n",
       "| transparency |  TRUE | FALSE |  8 |\n",
       "| transparency |  TRUE | FALSE |  5 |\n",
       "| transparency |  TRUE | FALSE |  9 |\n",
       "| transparency |  TRUE | FALSE |  9 |\n",
       "| transparency |  TRUE | FALSE | 10 |\n",
       "| transparency |  TRUE | FALSE |  9 |\n",
       "| transparency |  TRUE | FALSE |  7 |\n",
       "| transparency |  TRUE | FALSE |  0 |\n",
       "| transparency |  TRUE | FALSE |  0 |\n",
       "| transparency |  TRUE | FALSE | 10 |\n",
       "| transparency |  TRUE | FALSE |  8 |\n",
       "| transparency |  TRUE | FALSE |  6 |\n",
       "| transparency |  TRUE | FALSE | 10 |\n",
       "| transparency |  TRUE | FALSE |  8 |\n",
       "\n"
      ],
      "text/plain": [
       "    condition    transparency control data_understanding_v2\n",
       "1   baseline     FALSE        FALSE    7                   \n",
       "2   baseline     FALSE        FALSE    7                   \n",
       "3   baseline     FALSE        FALSE    2                   \n",
       "4   baseline     FALSE        FALSE    9                   \n",
       "5   baseline     FALSE        FALSE    6                   \n",
       "6   baseline     FALSE        FALSE    5                   \n",
       "7   baseline     FALSE        FALSE    3                   \n",
       "8   baseline     FALSE        FALSE    5                   \n",
       "9   baseline     FALSE        FALSE    6                   \n",
       "10  baseline     FALSE        FALSE    7                   \n",
       "11  baseline     FALSE        FALSE    7                   \n",
       "12  baseline     FALSE        FALSE    7                   \n",
       "13  baseline     FALSE        FALSE    0                   \n",
       "14  baseline     FALSE        FALSE    7                   \n",
       "15  baseline     FALSE        FALSE    5                   \n",
       "16  baseline     FALSE        FALSE    6                   \n",
       "17  baseline     FALSE        FALSE    7                   \n",
       "18  baseline     FALSE        FALSE    9                   \n",
       "19  baseline     FALSE        FALSE    8                   \n",
       "20  baseline     FALSE        FALSE    8                   \n",
       "21  baseline     FALSE        FALSE    6                   \n",
       "22  baseline     FALSE        FALSE   10                   \n",
       "23  baseline     FALSE        FALSE    8                   \n",
       "24  baseline     FALSE        FALSE    7                   \n",
       "25  baseline     FALSE        FALSE   10                   \n",
       "26  baseline     FALSE        FALSE    7                   \n",
       "27  baseline     FALSE        FALSE   10                   \n",
       "28  both          TRUE         TRUE    7                   \n",
       "29  both          TRUE         TRUE    9                   \n",
       "30  both          TRUE         TRUE    8                   \n",
       "... ...          ...          ...     ...                  \n",
       "89  control      FALSE         TRUE    9                   \n",
       "90  control      FALSE         TRUE    5                   \n",
       "91  control      FALSE         TRUE    5                   \n",
       "92  control      FALSE         TRUE    8                   \n",
       "93  control      FALSE         TRUE    9                   \n",
       "94  control      FALSE         TRUE    9                   \n",
       "95  control      FALSE         TRUE    6                   \n",
       "96  transparency  TRUE        FALSE    7                   \n",
       "97  transparency  TRUE        FALSE    7                   \n",
       "98  transparency  TRUE        FALSE   10                   \n",
       "99  transparency  TRUE        FALSE   10                   \n",
       "100 transparency  TRUE        FALSE    8                   \n",
       "101 transparency  TRUE        FALSE   10                   \n",
       "102 transparency  TRUE        FALSE    7                   \n",
       "103 transparency  TRUE        FALSE    6                   \n",
       "104 transparency  TRUE        FALSE    0                   \n",
       "105 transparency  TRUE        FALSE    8                   \n",
       "106 transparency  TRUE        FALSE    5                   \n",
       "107 transparency  TRUE        FALSE    9                   \n",
       "108 transparency  TRUE        FALSE    9                   \n",
       "109 transparency  TRUE        FALSE   10                   \n",
       "110 transparency  TRUE        FALSE    9                   \n",
       "111 transparency  TRUE        FALSE    7                   \n",
       "112 transparency  TRUE        FALSE    0                   \n",
       "113 transparency  TRUE        FALSE    0                   \n",
       "114 transparency  TRUE        FALSE   10                   \n",
       "115 transparency  TRUE        FALSE    8                   \n",
       "116 transparency  TRUE        FALSE    6                   \n",
       "117 transparency  TRUE        FALSE   10                   \n",
       "118 transparency  TRUE        FALSE    8                   "
      ]
     },
     "metadata": {},
     "output_type": "display_data"
    },
    {
     "name": "stderr",
     "output_type": "stream",
     "text": [
      "Warning message:\n",
      "\"Removed 3 rows containing non-finite values (stat_boxplot).\"\n",
      "Warning message:\n",
      "\"Removed 3 rows containing missing values (geom_point).\"\n"
     ]
    },
    {
     "data": {
      "image/png": "[encoded data removed]",
      "text/plain": [
       "plot without title"
      ]
     },
     "metadata": {
      "image/png": {
       "height": 420,
       "width": 420
      }
     },
     "output_type": "display_data"
    },
    {
     "name": "stdout",
     "output_type": "stream",
     "text": [
      "[1] \"sample is not normally distributed, continuing with Sven's special anova test (ARTool)\"\n"
     ]
    },
    {
     "data": {
      "text/html": [
       "<table class=\"dataframe\">\n",
       "<caption>A anova.art: 3 × 7</caption>\n",
       "<thead>\n",
       "\t<tr><th></th><th scope=col>Term</th><th scope=col>Df</th><th scope=col>Df.res</th><th scope=col>Sum Sq</th><th scope=col>Sum Sq.res</th><th scope=col>F value</th><th scope=col>Pr(&gt;F)</th></tr>\n",
       "\t<tr><th></th><th scope=col>&lt;fct&gt;</th><th scope=col>&lt;dbl&gt;</th><th scope=col>&lt;dbl&gt;</th><th scope=col>&lt;dbl&gt;</th><th scope=col>&lt;dbl&gt;</th><th scope=col>&lt;dbl&gt;</th><th scope=col>&lt;dbl&gt;</th></tr>\n",
       "</thead>\n",
       "<tbody>\n",
       "\t<tr><th scope=row>1</th><td>transparency        </td><td>1</td><td>112</td><td>3448.6025</td><td>123191.3</td><td>3.1353157</td><td>0.0793341</td></tr>\n",
       "\t<tr><th scope=row>2</th><td>control             </td><td>1</td><td>112</td><td>1925.4024</td><td>126353.9</td><td>1.7066749</td><td>0.1940938</td></tr>\n",
       "\t<tr><th scope=row>3</th><td>transparency:control</td><td>1</td><td>112</td><td> 574.6826</td><td>127236.4</td><td>0.5058649</td><td>0.4784131</td></tr>\n",
       "</tbody>\n",
       "</table>\n"
      ],
      "text/latex": [
       "A anova.art: 3 × 7\n",
       "\\begin{tabular}{r|lllllll}\n",
       "  & Term & Df & Df.res & Sum Sq & Sum Sq.res & F value & Pr(>F)\\\\\n",
       "  & <fct> & <dbl> & <dbl> & <dbl> & <dbl> & <dbl> & <dbl>\\\\\n",
       "\\hline\n",
       "\t1 & transparency         & 1 & 112 & 3448.6025 & 123191.3 & 3.1353157 & 0.0793341\\\\\n",
       "\t2 & control              & 1 & 112 & 1925.4024 & 126353.9 & 1.7066749 & 0.1940938\\\\\n",
       "\t3 & transparency:control & 1 & 112 &  574.6826 & 127236.4 & 0.5058649 & 0.4784131\\\\\n",
       "\\end{tabular}\n"
      ],
      "text/markdown": [
       "\n",
       "A anova.art: 3 × 7\n",
       "\n",
       "| <!--/--> | Term &lt;fct&gt; | Df &lt;dbl&gt; | Df.res &lt;dbl&gt; | Sum Sq &lt;dbl&gt; | Sum Sq.res &lt;dbl&gt; | F value &lt;dbl&gt; | Pr(&gt;F) &lt;dbl&gt; |\n",
       "|---|---|---|---|---|---|---|---|\n",
       "| 1 | transparency         | 1 | 112 | 3448.6025 | 123191.3 | 3.1353157 | 0.0793341 |\n",
       "| 2 | control              | 1 | 112 | 1925.4024 | 126353.9 | 1.7066749 | 0.1940938 |\n",
       "| 3 | transparency:control | 1 | 112 |  574.6826 | 127236.4 | 0.5058649 | 0.4784131 |\n",
       "\n"
      ],
      "text/plain": [
       "  Term                 Df Df.res Sum Sq    Sum Sq.res F value   Pr(>F)   \n",
       "1 transparency         1  112    3448.6025 123191.3   3.1353157 0.0793341\n",
       "2 control              1  112    1925.4024 126353.9   1.7066749 0.1940938\n",
       "3 transparency:control 1  112     574.6826 127236.4   0.5058649 0.4784131"
      ]
     },
     "metadata": {},
     "output_type": "display_data"
    },
    {
     "data": {
      "image/png": "[encoded data removed]",
      "text/plain": [
       "plot without title"
      ]
     },
     "metadata": {
      "image/png": {
       "height": 420,
       "width": 420
      }
     },
     "output_type": "display_data"
    }
   ],
   "source": [
    "### Section 6.2: Logging Awareness and Understanding\n",
    "## 6.2.1 Data Understanding\n",
    "### Data Understanding (Nachher)\n",
    "library(viridis)\n",
    "data_postq %>%\n",
    "  ggplot( aes(x=condition, y=data_understanding_v2, fill=condition)) +\n",
    "  geom_boxplot() +\n",
    "  scale_fill_viridis(discrete = TRUE, alpha=0.6) +\n",
    "  geom_jitter(color=\"black\") +\n",
    " # theme_ipsum() +\n",
    "  theme(\n",
    "    legend.position=\"none\",\n",
    "    plot.title = element_text(size=11)\n",
    "  ) +\n",
    "  ggtitle(\"Test: Data Understanding\") +\n",
    "  xlab(\"\")\n",
    "\n",
    "# two way anova (see R Console)\n",
    "df <- data_postq %>% select(condition,transparency,control,data_understanding_v2) %>% filter(!is.na(data_understanding_v2))\n",
    "twoway_anova_test(\"Test Items: Data Understanding\", df,\"data_understanding_v2\")\n",
    "\n",
    "#### Data Understanding - vorher nachher Vergleich\n",
    "library(viridis)\n",
    "data_q_prepost <- data_postq %>% \n",
    "  dplyr::rename(data_understanding_e=data_understanding_v2) %>%\n",
    "  inner_join(data_startq %>% select(username,data_understanding_v2) %>% dplyr::rename(data_understanding_s=data_understanding_v2),by=c(\"username\")) %>%\n",
    "  mutate(data_understanding_diff = data_understanding_e-data_understanding_s)\n",
    "\n",
    "data_q_prepost %>%\n",
    "  ggplot( aes(x=condition, y=data_understanding_diff, fill=condition)) +\n",
    "  geom_boxplot() +\n",
    "  scale_fill_viridis(discrete = TRUE, alpha=0.6) +\n",
    "  geom_jitter(color=\"black\") +\n",
    " # theme_ipsum() +\n",
    "  theme(\n",
    "    legend.position=\"none\",\n",
    "    plot.title = element_text(size=11)\n",
    "  ) +\n",
    "  ggtitle(\"Test: Data Understanding Diff\") +\n",
    "  xlab(\"\")\n",
    "\n",
    "# two way anova (see R Console)\n",
    "df <- data_q_prepost %>% select(condition,transparency,control,data_understanding_diff) %>% filter(!is.na(data_understanding_diff))\n",
    "twoway_anova_test(\"Test Items: Data Understanding\", df,\"data_understanding_diff\")\n"
   ]
  }
 ],
 "metadata": {
  "kernelspec": {
   "display_name": "R",
   "language": "R",
   "name": "ir"
  },
  "language_info": {
   "codemirror_mode": "r",
   "file_extension": ".r",
   "mimetype": "text/x-r-source",
   "name": "R",
   "pygments_lexer": "r",
   "version": "3.6.1"
  }
 },
 "nbformat": 4,
 "nbformat_minor": 5
}
