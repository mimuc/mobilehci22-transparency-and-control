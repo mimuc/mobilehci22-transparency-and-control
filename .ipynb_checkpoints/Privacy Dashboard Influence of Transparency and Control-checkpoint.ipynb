{
 "cells": [
  {
   "cell_type": "code",
   "execution_count": 15,
   "id": "91605d10",
   "metadata": {},
   "outputs": [],
   "source": [
    "### import libraries and functions ###\n",
    "library(dplyr)\n",
    "library(tidyr)\n",
    "library(ggplot2)\n",
    "library(lubridate)\n",
    "library(chisq.posthoc.test)\n",
    "\n",
    "source('general_functions.R')"
   ]
  },
  {
   "cell_type": "code",
   "execution_count": 3,
   "id": "c0094e73",
   "metadata": {},
   "outputs": [],
   "source": [
    "### load questionnaire data ###\n",
    "# onboarding questionnaires\n",
    "data_onboarding_groupassignment <- readRDS(\"data/questionnaires/data_onboarding_groupassignment.rds\")\n",
    "data_onboarding_baseline <- readRDS(\"data/questionnaires/data_onboarding_baseline.rds\")\n",
    "data_onboarding_transparency <- readRDS(\"data/questionnaires/data_onboarding_transparency.rds\")\n",
    "data_onboarding_control <- readRDS(\"data/questionnaires/data_onboarding_control.rds\")\n",
    "data_onboarding_both <- readRDS(\"data/questionnaires/data_onboarding_both.rds\")\n",
    "\n",
    "# pre and post questionnaires\n",
    "data_startq <- readRDS(\"data/questionnaires/data_preq.rds\")\n",
    "data_postq <- readRDS(\"data/questionnaires/data_postq.rds\")"
   ]
  },
  {
   "cell_type": "code",
   "execution_count": 4,
   "id": "17bcfa0f",
   "metadata": {},
   "outputs": [],
   "source": [
    "### load app data ###\n",
    "users <- readRDS(\"data/app/users.rds\")"
   ]
  },
  {
   "cell_type": "code",
   "execution_count": 5,
   "id": "63d275cd",
   "metadata": {},
   "outputs": [],
   "source": [
    "### Participation Rates. Amount of participants that ... ###\n",
    "\n",
    "# For each stage, the participation rates depending on the four conditions are calculated\n",
    "\n",
    "## ... showed interest in the study\n",
    "n_assigned_ba <- nrow(data_onboarding_groupassignment %>% filter(RD01 == 1))\n",
    "n_assigned_tr <- nrow(data_onboarding_groupassignment %>% filter(RD01 == 2))\n",
    "n_assigned_co <- nrow(data_onboarding_groupassignment %>% filter(RD01 == 3))\n",
    "n_assigned_bo <- nrow(data_onboarding_groupassignment %>% filter(RD01 == 4))\n",
    "\n",
    "# ... completed the onboarding questionnaire\n",
    "n_onboarding_finished_ba <- nrow(data_onboarding_baseline %>% filter(FINISHED == 1))\n",
    "n_onboarding_finished_tr <- nrow(data_onboarding_transparency %>% filter(FINISHED == 1))\n",
    "n_onboarding_finished_co <- nrow(data_onboarding_control %>% filter(FINISHED == 1))\n",
    "n_onboarding_finished_bo <- nrow(data_onboarding_both %>% filter(FINISHED == 1))\n",
    "\n",
    "# ... installed the app\n",
    "n_appinst_ba = nrow(users %>% filter(condition==\"baseline\"))\n",
    "n_appinst_tr = nrow(users %>% filter(condition==\"transparency\"))\n",
    "n_appinst_co = nrow(users %>% filter(condition==\"control\"))\n",
    "n_appinst_bo = nrow(users %>% filter(condition==\"both\"))\n",
    "\n",
    "# ... completed the pre questionnaire\n",
    "n_started_ba <- nrow(data_startq %>% filter(condition == \"baseline\"))\n",
    "n_started_tr <- nrow(data_startq %>% filter(condition == \"transparency\"))\n",
    "n_started_co <- nrow(data_startq %>% filter(condition == \"control\"))\n",
    "n_started_bo <- nrow(data_startq %>% filter(condition == \"both\"))\n",
    "\n",
    "# ...  kept app installed for at least one day\n",
    "n_day1_ba = nrow(users %>% filter(condition==\"baseline\" & days_in_study >= ddays(1)))\n",
    "n_day1_tr = nrow(users %>% filter(condition==\"transparency\" & days_in_study >= ddays(1)))\n",
    "n_day1_co = nrow(users %>% filter(condition==\"control\" & days_in_study >= ddays(1)))\n",
    "n_day1_bo = nrow(users %>% filter(condition==\"both\" & days_in_study >= ddays(1)))\n",
    "\n",
    "# ... Kept app until study end\n",
    "n_day6_ba = nrow(users %>% filter(condition==\"baseline\" & days_in_study >= ddays(6)))\n",
    "n_day6_tr = nrow(users %>% filter(condition==\"transparency\" & days_in_study >= ddays(6)))\n",
    "n_day6_co = nrow(users %>% filter(condition==\"control\" & days_in_study >= ddays(6)))\n",
    "n_day6_bo = nrow(users %>% filter(condition==\"both\" & days_in_study >= ddays(6)))\n",
    "\n",
    "# ... completed the post questionnaire\n",
    "n_finished_ba <- nrow(data_postq %>% filter(condition == \"baseline\")) \n",
    "n_finished_tr <- nrow(data_postq %>% filter(condition == \"transparency\"))\n",
    "n_finished_co <- nrow(data_postq %>% filter(condition == \"control\"))\n",
    "n_finished_bo <- nrow(data_postq %>% filter(condition == \"both\"))"
   ]
  },
  {
   "cell_type": "code",
   "execution_count": 19,
   "id": "5af0daa6",
   "metadata": {},
   "outputs": [
    {
     "data": {
      "text/html": [
       "<table class=\"dataframe\">\n",
       "<caption>A data.frame: 5 × 10</caption>\n",
       "<thead>\n",
       "\t<tr><th scope=col>baseline_n</th><th scope=col>baseline_perc</th><th scope=col>transparency_n</th><th scope=col>transparency_perc</th><th scope=col>control_n</th><th scope=col>control_perc</th><th scope=col>both_n</th><th scope=col>both_perc</th><th scope=col>total_n</th><th scope=col>total_perc</th></tr>\n",
       "\t<tr><th scope=col>&lt;int&gt;</th><th scope=col>&lt;dbl&gt;</th><th scope=col>&lt;int&gt;</th><th scope=col>&lt;dbl&gt;</th><th scope=col>&lt;int&gt;</th><th scope=col>&lt;dbl&gt;</th><th scope=col>&lt;int&gt;</th><th scope=col>&lt;dbl&gt;</th><th scope=col>&lt;int&gt;</th><th scope=col>&lt;dbl&gt;</th></tr>\n",
       "</thead>\n",
       "<tbody>\n",
       "\t<tr><td>322</td><td>1.0000000</td><td>321</td><td>1.0000000</td><td>322</td><td>1.0000000</td><td>321</td><td>1.0000000</td><td>1286</td><td>1.0000000</td></tr>\n",
       "\t<tr><td> 56</td><td>0.1739130</td><td> 57</td><td>0.1775701</td><td> 51</td><td>0.1583851</td><td> 63</td><td>0.1962617</td><td> 227</td><td>0.1765163</td></tr>\n",
       "\t<tr><td> 38</td><td>0.6785714</td><td> 27</td><td>0.4736842</td><td> 43</td><td>0.8431373</td><td> 42</td><td>0.6666667</td><td> 150</td><td>0.6607930</td></tr>\n",
       "\t<tr><td> 29</td><td>0.7631579</td><td> 23</td><td>0.8518519</td><td> 38</td><td>0.8837209</td><td> 38</td><td>0.9047619</td><td> 128</td><td>0.8533333</td></tr>\n",
       "\t<tr><td> 29</td><td>1.0000000</td><td> 23</td><td>1.0000000</td><td> 37</td><td>0.9736842</td><td> 37</td><td>0.9736842</td><td> 126</td><td>0.9843750</td></tr>\n",
       "</tbody>\n",
       "</table>\n"
      ],
      "text/latex": [
       "A data.frame: 5 × 10\n",
       "\\begin{tabular}{llllllllll}\n",
       " baseline\\_n & baseline\\_perc & transparency\\_n & transparency\\_perc & control\\_n & control\\_perc & both\\_n & both\\_perc & total\\_n & total\\_perc\\\\\n",
       " <int> & <dbl> & <int> & <dbl> & <int> & <dbl> & <int> & <dbl> & <int> & <dbl>\\\\\n",
       "\\hline\n",
       "\t 322 & 1.0000000 & 321 & 1.0000000 & 322 & 1.0000000 & 321 & 1.0000000 & 1286 & 1.0000000\\\\\n",
       "\t  56 & 0.1739130 &  57 & 0.1775701 &  51 & 0.1583851 &  63 & 0.1962617 &  227 & 0.1765163\\\\\n",
       "\t  38 & 0.6785714 &  27 & 0.4736842 &  43 & 0.8431373 &  42 & 0.6666667 &  150 & 0.6607930\\\\\n",
       "\t  29 & 0.7631579 &  23 & 0.8518519 &  38 & 0.8837209 &  38 & 0.9047619 &  128 & 0.8533333\\\\\n",
       "\t  29 & 1.0000000 &  23 & 1.0000000 &  37 & 0.9736842 &  37 & 0.9736842 &  126 & 0.9843750\\\\\n",
       "\\end{tabular}\n"
      ],
      "text/markdown": [
       "\n",
       "A data.frame: 5 × 10\n",
       "\n",
       "| baseline_n &lt;int&gt; | baseline_perc &lt;dbl&gt; | transparency_n &lt;int&gt; | transparency_perc &lt;dbl&gt; | control_n &lt;int&gt; | control_perc &lt;dbl&gt; | both_n &lt;int&gt; | both_perc &lt;dbl&gt; | total_n &lt;int&gt; | total_perc &lt;dbl&gt; |\n",
       "|---|---|---|---|---|---|---|---|---|---|\n",
       "| 322 | 1.0000000 | 321 | 1.0000000 | 322 | 1.0000000 | 321 | 1.0000000 | 1286 | 1.0000000 |\n",
       "|  56 | 0.1739130 |  57 | 0.1775701 |  51 | 0.1583851 |  63 | 0.1962617 |  227 | 0.1765163 |\n",
       "|  38 | 0.6785714 |  27 | 0.4736842 |  43 | 0.8431373 |  42 | 0.6666667 |  150 | 0.6607930 |\n",
       "|  29 | 0.7631579 |  23 | 0.8518519 |  38 | 0.8837209 |  38 | 0.9047619 |  128 | 0.8533333 |\n",
       "|  29 | 1.0000000 |  23 | 1.0000000 |  37 | 0.9736842 |  37 | 0.9736842 |  126 | 0.9843750 |\n",
       "\n"
      ],
      "text/plain": [
       "  baseline_n baseline_perc transparency_n transparency_perc control_n\n",
       "1 322        1.0000000     321            1.0000000         322      \n",
       "2  56        0.1739130      57            0.1775701          51      \n",
       "3  38        0.6785714      27            0.4736842          43      \n",
       "4  29        0.7631579      23            0.8518519          38      \n",
       "5  29        1.0000000      23            1.0000000          37      \n",
       "  control_perc both_n both_perc total_n total_perc\n",
       "1 1.0000000    321    1.0000000 1286    1.0000000 \n",
       "2 0.1583851     63    0.1962617  227    0.1765163 \n",
       "3 0.8431373     42    0.6666667  150    0.6607930 \n",
       "4 0.8837209     38    0.9047619  128    0.8533333 \n",
       "5 0.9736842     37    0.9736842  126    0.9843750 "
      ]
     },
     "metadata": {},
     "output_type": "display_data"
    }
   ],
   "source": [
    "# Table 3\n",
    "df_table3 <- data.frame(\n",
    "  baseline_n = c(n_assigned_ba,n_onboarding_finished_ba,n_appinst_ba,n_day1_ba,n_day6_ba),\n",
    "  baseline_perc = c(1,n_onboarding_finished_ba/n_assigned_ba,n_appinst_ba/n_onboarding_finished_ba,n_day1_ba/n_appinst_ba,n_day6_ba/n_day1_ba),\n",
    "  transparency_n = c(n_assigned_tr,n_onboarding_finished_tr,n_appinst_tr,n_day1_tr,n_day6_tr),\n",
    "  transparency_perc = c(1,n_onboarding_finished_tr/n_assigned_tr,n_appinst_tr/n_onboarding_finished_tr,n_day1_tr/n_appinst_tr,n_day6_tr/n_day1_tr),\n",
    "  control_n = c(n_assigned_co,n_onboarding_finished_co,n_appinst_co,n_day1_co,n_day6_co),\n",
    "  control_perc = c(1,n_onboarding_finished_co/n_assigned_co,n_appinst_co/n_onboarding_finished_co,n_day1_co/n_appinst_co,n_day6_co/n_day1_co),\n",
    "  both_n = c(n_assigned_bo,n_onboarding_finished_bo,n_appinst_bo,n_day1_bo,n_day6_bo),\n",
    "  both_perc = c(1,n_onboarding_finished_bo/n_assigned_bo,n_appinst_bo/n_onboarding_finished_bo,n_day1_bo/n_appinst_bo,n_day6_bo/n_day1_bo),\n",
    "  total_n = c(n_assigned_ba+n_assigned_tr+n_assigned_co+n_assigned_bo,\n",
    "              n_onboarding_finished_ba+n_onboarding_finished_tr+n_onboarding_finished_co+n_onboarding_finished_bo,\n",
    "              n_appinst_ba+n_appinst_tr+n_appinst_co+n_appinst_bo,\n",
    "              n_day1_ba+n_day1_tr+n_day1_co+n_day1_bo,\n",
    "              n_day6_ba+n_day6_tr+n_day6_co+n_day6_bo),\n",
    "  total_perc = c(1,\n",
    "                 (n_onboarding_finished_ba+n_onboarding_finished_tr+n_onboarding_finished_co+n_onboarding_finished_bo)/(n_assigned_ba+n_assigned_tr+n_assigned_co+n_assigned_bo),\n",
    "                 (n_appinst_ba+n_appinst_co+n_appinst_bo+n_appinst_tr)/(n_onboarding_finished_ba+n_onboarding_finished_tr+n_onboarding_finished_co+n_onboarding_finished_bo),\n",
    "                 (n_day1_ba+n_day1_bo+n_day1_co+n_day1_tr)/(n_appinst_ba+n_appinst_co+n_appinst_bo+n_appinst_tr),\n",
    "                 (n_day6_ba+n_day6_bo+n_day6_co+n_day6_tr)/(n_day1_ba+n_day1_bo+n_day1_co+n_day1_tr)\n",
    "                 )\n",
    "  )\n",
    "\n",
    "View(df_table3)"
   ]
  },
  {
   "cell_type": "code",
   "execution_count": 7,
   "id": "0f2c99de",
   "metadata": {},
   "outputs": [
    {
     "name": "stdout",
     "output_type": "stream",
     "text": [
      "\n",
      "\tPearson's Chi-squared test\n",
      "\n",
      "data:  as.table(mat_onboarding)\n",
      "X-squared = 1.6067, df = 3, p-value = 0.6579\n",
      "\n"
     ]
    }
   ],
   "source": [
    "### Tests: Differences in participation and dropout between the four study conditions ###\n",
    "\n",
    "## Interst in Study -> Indicated Participation\n",
    "mat_onboarding <- matrix(c(n_onboarding_finished_ba, \n",
    "                           n_onboarding_finished_tr,\n",
    "                           n_onboarding_finished_co,\n",
    "                           n_onboarding_finished_bo,\n",
    "                        max(0,n_assigned_ba-n_onboarding_finished_ba), \n",
    "                        max(0,n_assigned_tr-n_onboarding_finished_tr),\n",
    "                        max(0,n_assigned_co-n_onboarding_finished_co),\n",
    "                        max(0,n_assigned_bo-n_onboarding_finished_bo)\n",
    "                ), ncol=2)\n",
    "colnames(mat_onboarding) <- c(\"Onboarded\",\"Aborted\")\n",
    "row.names(mat_onboarding) <- c(\"baseline\",\"transparency\",\"control\",\"both\")\n",
    "test_onboarding <- chisq.test(as.table(mat_onboarding), correct = FALSE)\n",
    "print(test_onboarding)"
   ]
  },
  {
   "cell_type": "code",
   "execution_count": 8,
   "id": "faacd681",
   "metadata": {},
   "outputs": [
    {
     "name": "stdout",
     "output_type": "stream",
     "text": [
      "\n",
      "\tPearson's Chi-squared test\n",
      "\n",
      "data:  as.table(mat)\n",
      "X-squared = 16.557, df = 3, p-value = 0.0008716\n",
      "\n",
      "[1] \"Onboarding Q finished -> App Inst : Significant relation found with p= 0.000871641628754211\"\n",
      "[1] \"Onboarding Q finished -> App Inst : Variables in the following table whose magnitude is higher than -2.73436878653318 occured significantly more/less often\"\n",
      "     Dimension     Value App Installed App Not Installed\n",
      "1     baseline Residuals     0.3237713        -0.3237713\n",
      "2     baseline  p values     1.0000000         1.0000000\n",
      "3 transparency Residuals    -3.4479014         3.4479014\n",
      "4 transparency  p values     0.0045200         0.0045200\n",
      "5      control Residuals     3.1236959        -3.1236959\n",
      "6      control  p values     0.0142880         0.0142880\n",
      "7         both Residuals     0.1158535        -0.1158535\n",
      "8         both  p values     1.0000000         1.0000000\n"
     ]
    }
   ],
   "source": [
    "## Indicated Participation -> App Installed\n",
    "mat_onbq_appinst <- matrix(c(n_appinst_ba, \n",
    "                        n_appinst_tr,\n",
    "                        n_appinst_co,\n",
    "                        n_appinst_bo,\n",
    "                        max(0,n_onboarding_finished_ba-n_appinst_ba), \n",
    "                        max(0,n_onboarding_finished_tr-n_appinst_tr),\n",
    "                        max(0,n_onboarding_finished_co-n_appinst_co),\n",
    "                        max(0,n_onboarding_finished_bo-n_appinst_bo)\n",
    "), ncol=2)\n",
    "colnames(mat_onbq_appinst) <- c(\"App Installed\",\"App Not Installed\")\n",
    "row.names(mat_onbq_appinst) <- c(\"baseline\",\"transparency\",\"control\",\"both\")\n",
    "\n",
    "chi_sq_test(\"Onboarding Q finished -> App Inst\", mat_onbq_appinst)"
   ]
  },
  {
   "cell_type": "code",
   "execution_count": 9,
   "id": "de639f7d",
   "metadata": {},
   "outputs": [
    {
     "name": "stderr",
     "output_type": "stream",
     "text": [
      "Warning message in chisq.test(as.table(mat_inst_day1), correct = FALSE):\n",
      "\"Chi-squared approximation may be incorrect\"\n"
     ]
    },
    {
     "name": "stdout",
     "output_type": "stream",
     "text": [
      "\n",
      "\tPearson's Chi-squared test\n",
      "\n",
      "data:  as.table(mat_inst_day1)\n",
      "X-squared = 3.6742, df = 3, p-value = 0.2989\n",
      "\n"
     ]
    }
   ],
   "source": [
    "## App Installed -> Kept app installed for at least one day\n",
    "mat_inst_day1 <- matrix(c(n_day1_ba, \n",
    "                          n_day1_tr,\n",
    "                          n_day1_co,\n",
    "                          n_day1_bo,\n",
    "                          max(0,n_appinst_ba-n_day1_ba), \n",
    "                          max(0,n_appinst_tr-n_day1_tr),\n",
    "                          max(0,n_appinst_co-n_day1_co),\n",
    "                          max(0,n_appinst_bo-n_day1_bo)\n",
    "), ncol=2)\n",
    "colnames(mat_inst_day1) <- c(\"App 1+ day\",\"App less than 1 day\")\n",
    "row.names(mat_inst_day1) <- c(\"baseline\",\"transparency\",\"control\",\"both\")\n",
    "test_inst_day1 <- chisq.test(as.table(mat_inst_day1), correct = FALSE)\n",
    "print(test_inst_day1)\n"
   ]
  },
  {
   "cell_type": "code",
   "execution_count": 10,
   "id": "4d26076f",
   "metadata": {},
   "outputs": [
    {
     "name": "stderr",
     "output_type": "stream",
     "text": [
      "Warning message in chisq.test(as.table(mat), correct = FALSE):\n",
      "\"Chi-squared approximation may be incorrect\"\n"
     ]
    },
    {
     "name": "stdout",
     "output_type": "stream",
     "text": [
      "\n",
      "\tPearson's Chi-squared test\n",
      "\n",
      "data:  as.table(mat)\n",
      "X-squared = 1.3901, df = 3, p-value = 0.7078\n",
      "\n",
      "[1] \"App min. 1 Tag -> App für mind. 6 Tage behalten : No significant relation found\"\n"
     ]
    }
   ],
   "source": [
    "## Kept app installed for at least one day -> Kept app until study end\n",
    "n_day6_ba = nrow(users %>% filter(condition==\"baseline\" & days_in_study >= ddays(6)))\n",
    "n_day6_tr = nrow(users %>% filter(condition==\"transparency\" & days_in_study >= ddays(6)))\n",
    "n_day6_co = nrow(users %>% filter(condition==\"control\" & days_in_study >= ddays(6)))\n",
    "n_day6_bo = nrow(users %>% filter(condition==\"both\" & days_in_study >= ddays(6)))\n",
    "mat_day1_day6 <- matrix(c(n_day6_ba, \n",
    "                          n_day6_tr,\n",
    "                          n_day6_co,\n",
    "                          n_day6_bo,\n",
    "                          max(0,n_day1_ba-n_day6_ba), \n",
    "                          max(0,n_day1_tr-n_day6_tr),\n",
    "                          max(0,n_day1_co-n_day6_co),\n",
    "                          max(0,n_day1_bo-n_day6_bo)\n",
    "), ncol=2)\n",
    "colnames(mat_day1_day6) <- c(\"App 6+ day\",\"App less than 6 day\")\n",
    "row.names(mat_day1_day6) <- c(\"baseline\",\"transparency\",\"control\",\"both\")\n",
    "\n",
    "chi_sq_test(\"App min. 1 Tag -> App für mind. 6 Tage behalten\",mat_day1_day6)"
   ]
  },
  {
   "cell_type": "code",
   "execution_count": 11,
   "id": "7150733f",
   "metadata": {},
   "outputs": [
    {
     "data": {
      "image/png": "[encoded data removed]",
      "text/plain": [
       "plot without title"
      ]
     },
     "metadata": {
      "image/png": {
       "height": 420,
       "width": 420
      }
     },
     "output_type": "display_data"
    }
   ],
   "source": [
    "## Chart: Study Progress (Figure 4)\n",
    "df_studyprogress <- data.frame(studyprogress = factor(c(\"interested in study\",\n",
    "                                    \"interested in study\",\n",
    "                                    \"interested in study\",\n",
    "                                    \"interested in study\",\n",
    "                                    \"indicated participation\",\n",
    "                                    \"indicated participation\",\n",
    "                                    \"indicated participation\",\n",
    "                                    \"indicated participation\",\n",
    "                                    \"installed app\",\n",
    "                                    \"installed app\",\n",
    "                                    \"installed app\",\n",
    "                                    \"installed app\",\n",
    "                                    \"study day 1\",\n",
    "                                    \"study day 1\",\n",
    "                                    \"study day 1\",\n",
    "                                    \"study day 1\",                                 \n",
    "                                    \"study end\",\n",
    "                                    \"study end\",\n",
    "                                    \"study end\",\n",
    "                                    \"study end\"\n",
    "                                    ), levels=c(\"interested in study\",\"indicated participation\",\"installed app\",\"study day 1\",\"study end\")), # this defines the order on the x axis\n",
    "                 condition = factor(c(\"baseline\", \n",
    "                               \"transparency\",\n",
    "                               \"control\",\n",
    "                               \"both\",\n",
    "                               \"baseline\", \n",
    "                               \"transparency\",\n",
    "                               \"control\",\n",
    "                               \"both\",\n",
    "                               \"baseline\", \n",
    "                               \"transparency\",\n",
    "                               \"control\",\n",
    "                               \"both\",\n",
    "                               \"baseline\", \n",
    "                               \"transparency\",\n",
    "                               \"control\",\n",
    "                               \"both\",\n",
    "                               \"baseline\", \n",
    "                               \"transparency\",\n",
    "                               \"control\",\n",
    "                               \"both\"),levels=c(\"baseline\",\"transparency\",\"control\",\"both\")),\n",
    "                 N = c(n_assigned_ba,\n",
    "                       n_assigned_tr,\n",
    "                       n_assigned_co,\n",
    "                       n_assigned_bo,\n",
    "                       n_onboarding_finished_ba,\n",
    "                       n_onboarding_finished_tr,\n",
    "                       n_onboarding_finished_co,\n",
    "                       n_onboarding_finished_bo,\n",
    "                       n_appinst_ba,\n",
    "                       n_appinst_tr,\n",
    "                       n_appinst_co,\n",
    "                       n_appinst_bo,\n",
    "                       n_day1_ba,\n",
    "                       n_day1_tr,\n",
    "                       n_day1_co,\n",
    "                       n_day1_bo,                \n",
    "                       n_day6_ba,\n",
    "                       n_day6_tr,\n",
    "                       n_day6_co,\n",
    "                       n_day6_bo\n",
    "                       )\n",
    ")\n",
    "\n",
    "ggplot(\n",
    "  data=data.frame(df_studyprogress), \n",
    "  aes(x = studyprogress, y = N, color = condition, group=condition)\n",
    "  ) + \n",
    "  geom_line(size = 2)+\n",
    "  scale_color_manual(values=c('#f3b94d','#00748d','#F241B8','#76F266'))+\n",
    "  theme_minimal()+\n",
    "  labs(x=\"phase of study\",y=\"N\", title=\"Figure 4\")+\n",
    "  scale_y_continuous(trans='log10') +\n",
    "  theme(\n",
    "    axis.text.x = element_text(angle = 45, hjust=1),\n",
    "    legend.position = c(.7, .7)\n",
    "    )"
   ]
  },
  {
   "cell_type": "code",
   "execution_count": null,
   "id": "a9f44e75",
   "metadata": {},
   "outputs": [],
   "source": []
  }
 ],
 "metadata": {
  "kernelspec": {
   "display_name": "R",
   "language": "R",
   "name": "ir"
  },
  "language_info": {
   "codemirror_mode": "r",
   "file_extension": ".r",
   "mimetype": "text/x-r-source",
   "name": "R",
   "pygments_lexer": "r",
   "version": "3.6.1"
  }
 },
 "nbformat": 4,
 "nbformat_minor": 5
}
